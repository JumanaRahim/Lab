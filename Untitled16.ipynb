{
  "nbformat": 4,
  "nbformat_minor": 0,
  "metadata": {
    "colab": {
      "name": "Untitled16.ipynb",
      "provenance": [],
      "authorship_tag": "ABX9TyP0fuJ3Tvl2Wz4YtP3NwmlI",
      "include_colab_link": true
    },
    "kernelspec": {
      "name": "python3",
      "display_name": "Python 3"
    },
    "language_info": {
      "name": "python"
    }
  },
  "cells": [
    {
      "cell_type": "markdown",
      "metadata": {
        "id": "view-in-github",
        "colab_type": "text"
      },
      "source": [
        "<a href=\"https://colab.research.google.com/github/JumanaRahim/Lab/blob/main/Untitled16.ipynb\" target=\"_parent\"><img src=\"https://colab.research.google.com/assets/colab-badge.svg\" alt=\"Open In Colab\"/></a>"
      ]
    },
    {
      "cell_type": "code",
      "execution_count": 1,
      "metadata": {
        "id": "aAp0iHekmKLY",
        "outputId": "095b1049-ae48-4edd-d693-69b78b54033a",
        "colab": {
          "base_uri": "https://localhost:8080/"
        }
      },
      "outputs": [
        {
          "output_type": "stream",
          "name": "stdout",
          "text": [
            "Downloading data from https://storage.googleapis.com/tensorflow/tf-keras-datasets/mnist.npz\n",
            "11493376/11490434 [==============================] - 0s 0us/step\n",
            "11501568/11490434 [==============================] - 0s 0us/step\n"
          ]
        }
      ],
      "source": [
        "from tensorflow import keras\n",
        "from keras.models import Sequential\n",
        "import matplotlib.pyplot as plt\n",
        "mnistDB=keras.datasets.mnist\n",
        "(X_train,y_train),(X_test,y_test)=mnistDB.load_data()"
      ]
    },
    {
      "cell_type": "code",
      "source": [
        "print(\"Shape of X_train:\",X_train.shape)"
      ],
      "metadata": {
        "colab": {
          "base_uri": "https://localhost:8080/"
        },
        "id": "j-IlOr1yonRn",
        "outputId": "3d24dbb0-a9b8-4f19-cbff-ddc9b292b24e"
      },
      "execution_count": 2,
      "outputs": [
        {
          "output_type": "stream",
          "name": "stdout",
          "text": [
            "Shape of X_train: (60000, 28, 28)\n"
          ]
        }
      ]
    },
    {
      "cell_type": "code",
      "source": [
        "print(\"Shape of X_test:\",X_test.shape)"
      ],
      "metadata": {
        "colab": {
          "base_uri": "https://localhost:8080/"
        },
        "id": "kAGRenE4qSVv",
        "outputId": "22302788-02d6-4dd2-b73a-c59874a7b54b"
      },
      "execution_count": 3,
      "outputs": [
        {
          "output_type": "stream",
          "name": "stdout",
          "text": [
            "Shape of X_test: (10000, 28, 28)\n"
          ]
        }
      ]
    },
    {
      "cell_type": "code",
      "source": [
        "print(\"Shape of X_train:\",y_train.shape)"
      ],
      "metadata": {
        "colab": {
          "base_uri": "https://localhost:8080/"
        },
        "id": "n5lKKB0arlVy",
        "outputId": "8735be92-3d48-4754-f6e0-316fbfdc37f7"
      },
      "execution_count": 4,
      "outputs": [
        {
          "output_type": "stream",
          "name": "stdout",
          "text": [
            "Shape of X_train: (60000,)\n"
          ]
        }
      ]
    },
    {
      "cell_type": "code",
      "source": [
        "print(\"Shape of X_test:\",y_test.shape)"
      ],
      "metadata": {
        "colab": {
          "base_uri": "https://localhost:8080/"
        },
        "id": "GToHzlCyrydC",
        "outputId": "4d8cbb60-e4e4-487e-b1e9-2fc0172ea175"
      },
      "execution_count": 5,
      "outputs": [
        {
          "output_type": "stream",
          "name": "stdout",
          "text": [
            "Shape of X_test: (10000,)\n"
          ]
        }
      ]
    },
    {
      "cell_type": "code",
      "source": [
        "plt.imshow(X_train[0],cmap='binary')"
      ],
      "metadata": {
        "colab": {
          "base_uri": "https://localhost:8080/",
          "height": 282
        },
        "id": "WjkG7D-zoG7d",
        "outputId": "3714792d-9599-4ec8-dcd5-fd6a4f2c1aa1"
      },
      "execution_count": 6,
      "outputs": [
        {
          "output_type": "execute_result",
          "data": {
            "text/plain": [
              "<matplotlib.image.AxesImage at 0x7f26f9f25ed0>"
            ]
          },
          "metadata": {},
          "execution_count": 6
        },
        {
          "output_type": "display_data",
          "data": {
            "text/plain": [
              "<Figure size 432x288 with 1 Axes>"
            ],
            "image/png": "[encoded data removed]"
          },
          "metadata": {
            "needs_background": "light"
          }
        }
      ]
    },
    {
      "cell_type": "code",
      "source": [
        "X_train=X_train.reshape((60000,28,28,1))\n",
        "X_test=X_test.reshape((10000,28,28,1))"
      ],
      "metadata": {
        "id": "_3p9jfFcuG_7"
      },
      "execution_count": 7,
      "outputs": []
    },
    {
      "cell_type": "code",
      "source": [
        "ml=keras.models.Sequential()"
      ],
      "metadata": {
        "id": "nRmDeClGuj32"
      },
      "execution_count": 13,
      "outputs": []
    },
    {
      "cell_type": "code",
      "source": [
        "ml.add(keras.layers.Conv2D(32,(3,3),activation=\"relu\",input_shape=X_train.shape[1:]))"
      ],
      "metadata": {
        "id": "c3bTgP68u8mi"
      },
      "execution_count": 14,
      "outputs": []
    },
    {
      "cell_type": "code",
      "source": [
        "ml.add(keras.layers.Conv2D(64,(3,3),activation=\"relu\"))\n",
        "ml.add(keras.layers.MaxPooling2D((2,2)))\n",
        "ml.add(keras.layers.Dropout(0.25))\n",
        "ml.add(keras.layers.Flatten())\n",
        "ml.add(keras.layers.Dense(128,activation=\"relu\"))\n",
        "ml.add(keras.layers.Dropout(0.25))\n",
        "ml.add(keras.layers.Dense(10,activation=\"softmax\"))"
      ],
      "metadata": {
        "id": "LGsS3N8JvnxE"
      },
      "execution_count": 16,
      "outputs": []
    },
    {
      "cell_type": "code",
      "source": [
        "ml.summary()"
      ],
      "metadata": {
        "id": "1-zfdGEMwDuS",
        "outputId": "b09cd378-9a75-4cc4-ad1a-87f106c41dd8",
        "colab": {
          "base_uri": "https://localhost:8080/"
        }
      },
      "execution_count": 18,
      "outputs": [
        {
          "output_type": "stream",
          "name": "stdout",
          "text": [
            "Model: \"sequential_1\"\n",
            "_________________________________________________________________\n",
            " Layer (type)                Output Shape              Param #   \n",
            "=================================================================\n",
            " conv2d_4 (Conv2D)           (None, 26, 26, 32)        320       \n",
            "                                                                 \n",
            " conv2d_5 (Conv2D)           (None, 24, 24, 64)        18496     \n",
            "                                                                 \n",
            " max_pooling2d_2 (MaxPooling  (None, 12, 12, 64)       0         \n",
            " 2D)                                                             \n",
            "                                                                 \n",
            " conv2d_6 (Conv2D)           (None, 10, 10, 64)        36928     \n",
            "                                                                 \n",
            " max_pooling2d_3 (MaxPooling  (None, 5, 5, 64)         0         \n",
            " 2D)                                                             \n",
            "                                                                 \n",
            " dropout (Dropout)           (None, 5, 5, 64)          0         \n",
            "                                                                 \n",
            " flatten (Flatten)           (None, 1600)              0         \n",
            "                                                                 \n",
            " dense (Dense)               (None, 128)               204928    \n",
            "                                                                 \n",
            " dropout_1 (Dropout)         (None, 128)               0         \n",
            "                                                                 \n",
            " dense_1 (Dense)             (None, 10)                1290      \n",
            "                                                                 \n",
            "=================================================================\n",
            "Total params: 261,962\n",
            "Trainable params: 261,962\n",
            "Non-trainable params: 0\n",
            "_________________________________________________________________\n"
          ]
        }
      ]
    },
    {
      "cell_type": "code",
      "source": [
        "ml.compile(loss='sparse_categorical_crossentropy',optimizer='adam',metrics=['accuracy'])"
      ],
      "metadata": {
        "id": "_Sdkv8LpZfMw"
      },
      "execution_count": 20,
      "outputs": []
    },
    {
      "cell_type": "code",
      "source": [
        "ml.fit(X_train,y_train,epochs=50,validation_data=(X_test,y_test))"
      ],
      "metadata": {
        "id": "BELJmjYGZpKU",
        "outputId": "dcefe277-1dd9-4af3-a22b-a3c78aeb4834",
        "colab": {
          "base_uri": "https://localhost:8080/"
        }
      },
      "execution_count": null,
      "outputs": [
        {
          "output_type": "stream",
          "name": "stdout",
          "text": [
            "Epoch 1/50\n",
            "1875/1875 [==============================] - 191s 102ms/step - loss: 0.2860 - accuracy: 0.9349 - val_loss: 0.0526 - val_accuracy: 0.9823\n",
            "Epoch 2/50\n",
            "1875/1875 [==============================] - 190s 101ms/step - loss: 0.0886 - accuracy: 0.9734 - val_loss: 0.0406 - val_accuracy: 0.9872\n",
            "Epoch 3/50\n",
            "1875/1875 [==============================] - 188s 100ms/step - loss: 0.0676 - accuracy: 0.9803 - val_loss: 0.0344 - val_accuracy: 0.9879\n",
            "Epoch 4/50\n",
            "1875/1875 [==============================] - 189s 101ms/step - loss: 0.0608 - accuracy: 0.9817 - val_loss: 0.0371 - val_accuracy: 0.9864\n",
            "Epoch 5/50\n",
            "1875/1875 [==============================] - 190s 101ms/step - loss: 0.0508 - accuracy: 0.9847 - val_loss: 0.0253 - val_accuracy: 0.9928\n",
            "Epoch 6/50\n",
            "1875/1875 [==============================] - 188s 100ms/step - loss: 0.0468 - accuracy: 0.9860 - val_loss: 0.0299 - val_accuracy: 0.9911\n",
            "Epoch 7/50\n",
            "1875/1875 [==============================] - 190s 101ms/step - loss: 0.0449 - accuracy: 0.9860 - val_loss: 0.0238 - val_accuracy: 0.9923\n",
            "Epoch 8/50\n",
            "1875/1875 [==============================] - 188s 101ms/step - loss: 0.0432 - accuracy: 0.9872 - val_loss: 0.0291 - val_accuracy: 0.9909\n",
            "Epoch 9/50\n",
            "1875/1875 [==============================] - 192s 102ms/step - loss: 0.0377 - accuracy: 0.9892 - val_loss: 0.0280 - val_accuracy: 0.9911\n",
            "Epoch 10/50\n",
            " 226/1875 [==>...........................] - ETA: 2:41 - loss: 0.0325 - accuracy: 0.9917"
          ]
        }
      ]
    }
  ]
}