{
  "nbformat": 4,
  "nbformat_minor": 0,
  "metadata": {
    "colab": {
      "name": "SVM_nonlinear .ipynb",
      "provenance": [],
      "authorship_tag": "ABX9TyOct2VjtG0cAqwoEEsyCFXb",
      "include_colab_link": true
    },
    "kernelspec": {
      "name": "python3",
      "display_name": "Python 3"
    },
    "language_info": {
      "name": "python"
    }
  },
  "cells": [
    {
      "cell_type": "markdown",
      "metadata": {
        "id": "view-in-github",
        "colab_type": "text"
      },
      "source": [
        "<a href=\"https://colab.research.google.com/github/JumanaRahim/Lab/blob/main/SVM_nonlinear_.ipynb\" target=\"_parent\"><img src=\"https://colab.research.google.com/assets/colab-badge.svg\" alt=\"Open In Colab\"/></a>"
      ]
    },
    {
      "cell_type": "code",
      "execution_count": 3,
      "metadata": {
        "colab": {
          "base_uri": "https://localhost:8080/"
        },
        "id": "FpL7X6_H1_Ym",
        "outputId": "9f722625-d63c-436a-a5d2-0ec1aa869b0a"
      },
      "outputs": [
        {
          "output_type": "stream",
          "name": "stdout",
          "text": [
            "[[ 9  0  0]\n",
            " [ 0 11  1]\n",
            " [ 0  0  9]]\n",
            "96.66666666666667\n"
          ]
        }
      ],
      "source": [
        "#1. load data\n",
        "import pandas as pd\n",
        "data=pd.read_csv(\"/content/Iris (1) (1).csv\")\n",
        "x=data[[\"SepalLengthCm\",\"SepalWidthCm\",\"PetalLengthCm\",\"PetalWidthCm\"]]\n",
        "y=data[\"Species\"]\n",
        "#2. load ML model\n",
        "from sklearn.svm import SVC\n",
        "clf = SVC(kernel='rbf')\n",
        "#3. fit data into model\n",
        "from sklearn.model_selection import train_test_split\n",
        "x_train,x_test,y_train,y_test=train_test_split(x,y,test_size=0.2,train_size = 0.8)\n",
        "ML=clf.fit(x_train, y_train)\n",
        "#4. testing\n",
        "from sklearn.metrics import confusion_matrix\n",
        "y_pred =clf.predict(x_test)  \n",
        "cm = confusion_matrix(y_test, y_pred)\n",
        "print(cm)\n",
        "from sklearn.metrics import accuracy_score\n",
        "score=accuracy_score(y_test,y_pred)\n",
        "print(score*100)\n",
        "\n",
        "\n"
      ]
    },
    {
      "cell_type": "code",
      "source": [
        ""
      ],
      "metadata": {
        "id": "DtBp40G150pc"
      },
      "execution_count": null,
      "outputs": []
    }
  ]
}