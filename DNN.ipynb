{
  "nbformat": 4,
  "nbformat_minor": 0,
  "metadata": {
    "colab": {
      "name": "DNN.ipynb",
      "provenance": [],
      "authorship_tag": "ABX9TyMwlXLRgVMqYPU2HxXWQlC2",
      "include_colab_link": true
    },
    "kernelspec": {
      "name": "python3",
      "display_name": "Python 3"
    },
    "language_info": {
      "name": "python"
    }
  },
  "cells": [
    {
      "cell_type": "markdown",
      "metadata": {
        "id": "view-in-github",
        "colab_type": "text"
      },
      "source": [
        "<a href=\"https://colab.research.google.com/github/JumanaRahim/Lab/blob/main/DNN.ipynb\" target=\"_parent\"><img src=\"https://colab.research.google.com/assets/colab-badge.svg\" alt=\"Open In Colab\"/></a>"
      ]
    },
    {
      "cell_type": "code",
      "execution_count": 71,
      "metadata": {
        "id": "6_3MR6anmIgk"
      },
      "outputs": [],
      "source": [
        "from sklearn.datasets import load_iris\n",
        "iris=load_iris()\n",
        "x=iris.data\n",
        "y=iris.target"
      ]
    },
    {
      "cell_type": "code",
      "source": [
        "from sklearn.model_selection import train_test_split\n",
        "x_train,x_test,y_train,y_test=train_test_split(x,y,test_size=0.2)"
      ],
      "metadata": {
        "id": "05A_ohjsmioo"
      },
      "execution_count": 72,
      "outputs": []
    },
    {
      "cell_type": "code",
      "source": [
        "import tensorflow as tf\n",
        "from tensorflow import keras"
      ],
      "metadata": {
        "id": "lVQnR1TNm_ta"
      },
      "execution_count": 73,
      "outputs": []
    },
    {
      "cell_type": "code",
      "source": [
        "ml=keras.models.Sequential()"
      ],
      "metadata": {
        "id": "FsFW7JAenKmX"
      },
      "execution_count": 74,
      "outputs": []
    },
    {
      "cell_type": "code",
      "source": [
        "ml.add(keras.layers.Dense(units=4,activation='relu',input_dim=x.shape[1]))"
      ],
      "metadata": {
        "id": "SUMvipC6usYi"
      },
      "execution_count": 75,
      "outputs": []
    },
    {
      "cell_type": "code",
      "source": [
        "ml.add(tf.keras.layers.Dropout(0.05))"
      ],
      "metadata": {
        "id": "4-UiNYyzOQoI"
      },
      "execution_count": 76,
      "outputs": []
    },
    {
      "cell_type": "code",
      "source": [
        "tf.keras.layers.BatchNormalization(\n",
        "    axis=-1,\n",
        "    momentum=0.99,\n",
        "    epsilon=0.001,\n",
        "    center=True,\n",
        "    scale=True,\n",
        "    beta_initializer='zeros',\n",
        "    gamma_initializer='ones',\n",
        "    moving_mean_initializer='zeros',\n",
        "    moving_variance_initializer='ones',\n",
        "    beta_regularizer=None,\n",
        "    gamma_regularizer=None,\n",
        "    beta_constraint=None,\n",
        "    gamma_constraint=None,\n",
        "\n",
        ")"
      ],
      "metadata": {
        "id": "xLCX46YWQ0pP",
        "outputId": "72631b70-499b-4ca0-f497-1a9aa58ed39f",
        "colab": {
          "base_uri": "https://localhost:8080/"
        }
      },
      "execution_count": 77,
      "outputs": [
        {
          "output_type": "execute_result",
          "data": {
            "text/plain": [
              "<keras.layers.normalization.batch_normalization.BatchNormalization at 0x7f518f289890>"
            ]
          },
          "metadata": {},
          "execution_count": 77
        }
      ]
    },
    {
      "cell_type": "code",
      "source": [
        "ml.add(keras.layers.Dense(units=6,activation='relu'))\n",
        "ml.add(keras.layers.Dense(units=5,activation='relu'))\n",
        "ml.add(tf.keras.layers.Dropout(0.05))\n",
        "ml.add(keras.layers.Dense(units=4,activation='relu'))\n",
        "ml.add(keras.layers.Dense(units=3,activation='sigmoid'))\n",
        "ml.add(tf.keras.layers.Dropout(0.15))\n",
        "ml.summary()"
      ],
      "metadata": {
        "colab": {
          "base_uri": "https://localhost:8080/"
        },
        "id": "vkpq4IMon6Dw",
        "outputId": "5a0f0a86-2103-42f2-e7fc-1fb40874f6b7"
      },
      "execution_count": 78,
      "outputs": [
        {
          "output_type": "stream",
          "name": "stdout",
          "text": [
            "Model: \"sequential_5\"\n",
            "_________________________________________________________________\n",
            " Layer (type)                Output Shape              Param #   \n",
            "=================================================================\n",
            " dense_36 (Dense)            (None, 4)                 20        \n",
            "                                                                 \n",
            " dropout_13 (Dropout)        (None, 4)                 0         \n",
            "                                                                 \n",
            " dense_37 (Dense)            (None, 6)                 30        \n",
            "                                                                 \n",
            " dense_38 (Dense)            (None, 5)                 35        \n",
            "                                                                 \n",
            " dropout_14 (Dropout)        (None, 5)                 0         \n",
            "                                                                 \n",
            " dense_39 (Dense)            (None, 4)                 24        \n",
            "                                                                 \n",
            " dense_40 (Dense)            (None, 3)                 15        \n",
            "                                                                 \n",
            " dropout_15 (Dropout)        (None, 3)                 0         \n",
            "                                                                 \n",
            "=================================================================\n",
            "Total params: 124\n",
            "Trainable params: 124\n",
            "Non-trainable params: 0\n",
            "_________________________________________________________________\n"
          ]
        }
      ]
    },
    {
      "cell_type": "code",
      "source": [
        "ml.compile(loss='MSE',optimizer='adam',metrics=['accuracy'])"
      ],
      "metadata": {
        "id": "TafgsZ7zoXiY"
      },
      "execution_count": 79,
      "outputs": []
    },
    {
      "cell_type": "code",
      "source": [
        "tf.keras.callbacks.EarlyStopping(\n",
        "    monitor=\"val_loss\",\n",
        "    patience=0,\n",
        "    verbose=0,\n",
        "    mode=\"auto\",\n",
        "    baseline=None,\n",
        "    restore_best_weights=False,\n",
        ")"
      ],
      "metadata": {
        "id": "iQAm4dj6TM2N",
        "outputId": "d9795dae-70ee-47ae-b46b-e6eb3ed1d949",
        "colab": {
          "base_uri": "https://localhost:8080/"
        }
      },
      "execution_count": 80,
      "outputs": [
        {
          "output_type": "execute_result",
          "data": {
            "text/plain": [
              "<keras.callbacks.EarlyStopping at 0x7f518f223490>"
            ]
          },
          "metadata": {},
          "execution_count": 80
        }
      ]
    },
    {
      "cell_type": "code",
      "source": [
        "callback = tf.keras.callbacks.EarlyStopping(monitor='loss', patience=10)"
      ],
      "metadata": {
        "id": "E0HNfHRLT8RV"
      },
      "execution_count": 81,
      "outputs": []
    },
    {
      "cell_type": "code",
      "source": [
        "checkpoint=keras.callbacks.ModelCheckpoint(\"/content/bestModel_DNNmodel.h5\",monitor='val_loss')"
      ],
      "metadata": {
        "id": "_jXCCjc6cDm_"
      },
      "execution_count": 108,
      "outputs": []
    },
    {
      "cell_type": "code",
      "source": [
        ""
      ],
      "metadata": {
        "id": "BPH5bFDVlvip"
      },
      "execution_count": null,
      "outputs": []
    },
    {
      "cell_type": "code",
      "source": [
        "ml.fit(x_train,y_train,epochs=500,callbacks=[callback])"
      ],
      "metadata": {
        "colab": {
          "base_uri": "https://localhost:8080/"
        },
        "id": "yOWv1_90o_50",
        "outputId": "a0d62bc2-e085-413c-8dde-da663c472367"
      },
      "execution_count": 82,
      "outputs": [
        {
          "output_type": "stream",
          "name": "stdout",
          "text": [
            "Epoch 1/500\n",
            "4/4 [==============================] - 1s 4ms/step - loss: 1.1598 - accuracy: 0.5167\n",
            "Epoch 2/500\n",
            "4/4 [==============================] - 0s 4ms/step - loss: 1.1508 - accuracy: 0.4917\n",
            "Epoch 3/500\n",
            "4/4 [==============================] - 0s 4ms/step - loss: 1.1029 - accuracy: 0.5583\n",
            "Epoch 4/500\n",
            "4/4 [==============================] - 0s 4ms/step - loss: 1.1336 - accuracy: 0.5250\n",
            "Epoch 5/500\n",
            "4/4 [==============================] - 0s 5ms/step - loss: 1.1418 - accuracy: 0.4750\n",
            "Epoch 6/500\n",
            "4/4 [==============================] - 0s 3ms/step - loss: 1.0930 - accuracy: 0.5833\n",
            "Epoch 7/500\n",
            "4/4 [==============================] - 0s 3ms/step - loss: 1.0980 - accuracy: 0.5333\n",
            "Epoch 8/500\n",
            "4/4 [==============================] - 0s 4ms/step - loss: 1.0558 - accuracy: 0.5917\n",
            "Epoch 9/500\n",
            "4/4 [==============================] - 0s 5ms/step - loss: 1.0525 - accuracy: 0.5083\n",
            "Epoch 10/500\n",
            "4/4 [==============================] - 0s 6ms/step - loss: 1.0752 - accuracy: 0.5250\n",
            "Epoch 11/500\n",
            "4/4 [==============================] - 0s 5ms/step - loss: 1.0941 - accuracy: 0.5417\n",
            "Epoch 12/500\n",
            "4/4 [==============================] - 0s 5ms/step - loss: 0.9997 - accuracy: 0.5833\n",
            "Epoch 13/500\n",
            "4/4 [==============================] - 0s 5ms/step - loss: 1.0657 - accuracy: 0.6000\n",
            "Epoch 14/500\n",
            "4/4 [==============================] - 0s 5ms/step - loss: 0.9740 - accuracy: 0.5500\n",
            "Epoch 15/500\n",
            "4/4 [==============================] - 0s 5ms/step - loss: 1.0187 - accuracy: 0.4917\n",
            "Epoch 16/500\n",
            "4/4 [==============================] - 0s 4ms/step - loss: 1.0188 - accuracy: 0.5417\n",
            "Epoch 17/500\n",
            "4/4 [==============================] - 0s 5ms/step - loss: 1.0106 - accuracy: 0.5083\n",
            "Epoch 18/500\n",
            "4/4 [==============================] - 0s 5ms/step - loss: 1.0325 - accuracy: 0.5250\n",
            "Epoch 19/500\n",
            "4/4 [==============================] - 0s 5ms/step - loss: 1.0365 - accuracy: 0.5000\n",
            "Epoch 20/500\n",
            "4/4 [==============================] - 0s 4ms/step - loss: 0.9958 - accuracy: 0.5417\n",
            "Epoch 21/500\n",
            "4/4 [==============================] - 0s 4ms/step - loss: 0.9926 - accuracy: 0.5333\n",
            "Epoch 22/500\n",
            "4/4 [==============================] - 0s 5ms/step - loss: 0.9850 - accuracy: 0.5500\n",
            "Epoch 23/500\n",
            "4/4 [==============================] - 0s 6ms/step - loss: 0.9810 - accuracy: 0.4917\n",
            "Epoch 24/500\n",
            "4/4 [==============================] - 0s 4ms/step - loss: 0.9565 - accuracy: 0.4833\n",
            "Epoch 25/500\n",
            "4/4 [==============================] - 0s 5ms/step - loss: 0.9820 - accuracy: 0.5750\n",
            "Epoch 26/500\n",
            "4/4 [==============================] - 0s 5ms/step - loss: 0.9860 - accuracy: 0.5833\n",
            "Epoch 27/500\n",
            "4/4 [==============================] - 0s 4ms/step - loss: 0.9363 - accuracy: 0.5500\n",
            "Epoch 28/500\n",
            "4/4 [==============================] - 0s 4ms/step - loss: 0.9869 - accuracy: 0.5000\n",
            "Epoch 29/500\n",
            "4/4 [==============================] - 0s 4ms/step - loss: 0.9351 - accuracy: 0.5250\n",
            "Epoch 30/500\n",
            "4/4 [==============================] - 0s 5ms/step - loss: 0.9325 - accuracy: 0.5583\n",
            "Epoch 31/500\n",
            "4/4 [==============================] - 0s 4ms/step - loss: 0.9609 - accuracy: 0.5417\n",
            "Epoch 32/500\n",
            "4/4 [==============================] - 0s 4ms/step - loss: 0.9348 - accuracy: 0.5250\n",
            "Epoch 33/500\n",
            "4/4 [==============================] - 0s 4ms/step - loss: 0.9473 - accuracy: 0.5583\n",
            "Epoch 34/500\n",
            "4/4 [==============================] - 0s 4ms/step - loss: 0.9653 - accuracy: 0.5500\n",
            "Epoch 35/500\n",
            "4/4 [==============================] - 0s 5ms/step - loss: 0.9263 - accuracy: 0.5750\n",
            "Epoch 36/500\n",
            "4/4 [==============================] - 0s 4ms/step - loss: 0.9596 - accuracy: 0.5083\n",
            "Epoch 37/500\n",
            "4/4 [==============================] - 0s 4ms/step - loss: 0.9376 - accuracy: 0.5500\n",
            "Epoch 38/500\n",
            "4/4 [==============================] - 0s 5ms/step - loss: 0.9601 - accuracy: 0.5083\n",
            "Epoch 39/500\n",
            "4/4 [==============================] - 0s 5ms/step - loss: 0.8999 - accuracy: 0.5083\n",
            "Epoch 40/500\n",
            "4/4 [==============================] - 0s 5ms/step - loss: 0.8972 - accuracy: 0.5500\n",
            "Epoch 41/500\n",
            "4/4 [==============================] - 0s 4ms/step - loss: 0.9320 - accuracy: 0.5083\n",
            "Epoch 42/500\n",
            "4/4 [==============================] - 0s 4ms/step - loss: 0.8958 - accuracy: 0.5417\n",
            "Epoch 43/500\n",
            "4/4 [==============================] - 0s 4ms/step - loss: 0.9393 - accuracy: 0.5167\n",
            "Epoch 44/500\n",
            "4/4 [==============================] - 0s 4ms/step - loss: 0.9197 - accuracy: 0.5000\n",
            "Epoch 45/500\n",
            "4/4 [==============================] - 0s 4ms/step - loss: 0.9978 - accuracy: 0.4917\n",
            "Epoch 46/500\n",
            "4/4 [==============================] - 0s 6ms/step - loss: 0.9757 - accuracy: 0.5250\n",
            "Epoch 47/500\n",
            "4/4 [==============================] - 0s 4ms/step - loss: 0.9525 - accuracy: 0.5083\n",
            "Epoch 48/500\n",
            "4/4 [==============================] - 0s 4ms/step - loss: 0.9073 - accuracy: 0.5417\n",
            "Epoch 49/500\n",
            "4/4 [==============================] - 0s 5ms/step - loss: 0.9149 - accuracy: 0.5667\n",
            "Epoch 50/500\n",
            "4/4 [==============================] - 0s 5ms/step - loss: 0.9400 - accuracy: 0.5083\n",
            "Epoch 51/500\n",
            "4/4 [==============================] - 0s 4ms/step - loss: 0.9004 - accuracy: 0.5750\n",
            "Epoch 52/500\n",
            "4/4 [==============================] - 0s 4ms/step - loss: 0.9283 - accuracy: 0.5833\n"
          ]
        },
        {
          "output_type": "execute_result",
          "data": {
            "text/plain": [
              "<keras.callbacks.History at 0x7f518f22c690>"
            ]
          },
          "metadata": {},
          "execution_count": 82
        }
      ]
    },
    {
      "cell_type": "code",
      "source": [
        "test_loss,test_accuracy=ml.evaluate(x_test,y_test)\n",
        "print(test_loss,test_accuracy)"
      ],
      "metadata": {
        "colab": {
          "base_uri": "https://localhost:8080/"
        },
        "id": "mXEXpx5Uov0X",
        "outputId": "3736750b-a135-4af4-96ed-75a3ef8a4d63"
      },
      "execution_count": 83,
      "outputs": [
        {
          "output_type": "stream",
          "name": "stdout",
          "text": [
            "WARNING:tensorflow:6 out of the last 7 calls to <function Model.make_test_function.<locals>.test_function at 0x7f518dfa7950> triggered tf.function retracing. Tracing is expensive and the excessive number of tracings could be due to (1) creating @tf.function repeatedly in a loop, (2) passing tensors with different shapes, (3) passing Python objects instead of tensors. For (1), please define your @tf.function outside of the loop. For (2), @tf.function has experimental_relax_shapes=True option that relaxes argument shapes that can avoid unnecessary retracing. For (3), please refer to https://www.tensorflow.org/guide/function#controlling_retracing and https://www.tensorflow.org/api_docs/python/tf/function for  more details.\n",
            "1/1 [==============================] - 0s 136ms/step - loss: 0.7860 - accuracy: 0.6000\n",
            "0.7859963178634644 0.6000000238418579\n"
          ]
        }
      ]
    },
    {
      "cell_type": "code",
      "source": [
        ""
      ],
      "metadata": {
        "id": "H-3As4Yqbaug"
      },
      "execution_count": null,
      "outputs": []
    },
    {
      "cell_type": "code",
      "source": [
        "from sklearn.datasets import load_wine\n",
        "iris=load_wine()\n",
        "x=iris.data\n",
        "y=iris.target"
      ],
      "metadata": {
        "id": "w2PCo8dwwQnM"
      },
      "execution_count": 107,
      "outputs": []
    },
    {
      "cell_type": "code",
      "source": [
        "from sklearn.model_selection import train_test_split\n",
        "x_train,x_test,y_train,y_test=train_test_split(x,y,test_size=0.2)"
      ],
      "metadata": {
        "id": "vQobc3cT0RBD"
      },
      "execution_count": 85,
      "outputs": []
    },
    {
      "cell_type": "code",
      "source": [
        "import tensorflow as tf\n",
        "from tensorflow import keras"
      ],
      "metadata": {
        "id": "mDFgsGD110q4"
      },
      "execution_count": 86,
      "outputs": []
    },
    {
      "cell_type": "code",
      "source": [
        "ml=keras.models.Sequential()"
      ],
      "metadata": {
        "id": "QNeSNkNj16KE"
      },
      "execution_count": 87,
      "outputs": []
    },
    {
      "cell_type": "code",
      "source": [
        "ml.add(keras.layers.Dense(units=4,activation='relu',input_dim=x.shape[1]))"
      ],
      "metadata": {
        "id": "AOegKRzs2KE2"
      },
      "execution_count": 88,
      "outputs": []
    },
    {
      "cell_type": "code",
      "source": [
        "ml.add(tf.keras.layers.Dropout(0.05))"
      ],
      "metadata": {
        "id": "C7rgRo4UN7vd"
      },
      "execution_count": 89,
      "outputs": []
    },
    {
      "cell_type": "code",
      "source": [
        "tf.keras.layers.BatchNormalization(\n",
        "    axis=-1,\n",
        "    momentum=0.99,\n",
        "    epsilon=0.001,\n",
        "    center=True,\n",
        "    scale=True,\n",
        "    beta_initializer='zeros',\n",
        "    gamma_initializer='ones',\n",
        "    moving_mean_initializer='zeros',\n",
        "    moving_variance_initializer='ones',\n",
        "    beta_regularizer=None,\n",
        "    gamma_regularizer=None,\n",
        "    beta_constraint=None,\n",
        "    gamma_constraint=None,)"
      ],
      "metadata": {
        "id": "ovaJvAq3Ws_Y",
        "outputId": "52fa1374-c34f-41b5-ebf7-30b919d6111d",
        "colab": {
          "base_uri": "https://localhost:8080/"
        }
      },
      "execution_count": 103,
      "outputs": [
        {
          "output_type": "execute_result",
          "data": {
            "text/plain": [
              "<keras.layers.normalization.batch_normalization.BatchNormalization at 0x7f5198803a50>"
            ]
          },
          "metadata": {},
          "execution_count": 103
        }
      ]
    },
    {
      "cell_type": "code",
      "source": [
        "ml.add(keras.layers.Dense(units=6,activation='relu'))\n",
        "ml.add(keras.layers.Dense(units=5,activation='relu'))\n",
        "ml.add(tf.keras.layers.Dropout(0.05))\n",
        "ml.add(keras.layers.Dense(units=4,activation='relu'))\n",
        "ml.add(keras.layers.Dense(units=3,activation='sigmoid'))\n",
        "ml.add(tf.keras.layers.Dropout(0.15))\n",
        "ml.summary()"
      ],
      "metadata": {
        "colab": {
          "base_uri": "https://localhost:8080/",
          "height": 321
        },
        "id": "cfLs9M6U2TiB",
        "outputId": "17eab19e-e6f0-4b86-850f-3f6b04122db6"
      },
      "execution_count": 104,
      "outputs": [
        {
          "output_type": "error",
          "ename": "ValueError",
          "evalue": "ignored",
          "traceback": [
            "\u001b[0;31m---------------------------------------------------------------------------\u001b[0m",
            "\u001b[0;31mValueError\u001b[0m                                Traceback (most recent call last)",
            "\u001b[0;32m<ipython-input-104-0738fe4d920d>\u001b[0m in \u001b[0;36m<module>\u001b[0;34m()\u001b[0m\n\u001b[1;32m      5\u001b[0m \u001b[0mml\u001b[0m\u001b[0;34m.\u001b[0m\u001b[0madd\u001b[0m\u001b[0;34m(\u001b[0m\u001b[0mkeras\u001b[0m\u001b[0;34m.\u001b[0m\u001b[0mlayers\u001b[0m\u001b[0;34m.\u001b[0m\u001b[0mDense\u001b[0m\u001b[0;34m(\u001b[0m\u001b[0munits\u001b[0m\u001b[0;34m=\u001b[0m\u001b[0;36m3\u001b[0m\u001b[0;34m,\u001b[0m\u001b[0mactivation\u001b[0m\u001b[0;34m=\u001b[0m\u001b[0;34m'sigmoid'\u001b[0m\u001b[0;34m)\u001b[0m\u001b[0;34m)\u001b[0m\u001b[0;34m\u001b[0m\u001b[0;34m\u001b[0m\u001b[0m\n\u001b[1;32m      6\u001b[0m \u001b[0mml\u001b[0m\u001b[0;34m.\u001b[0m\u001b[0madd\u001b[0m\u001b[0;34m(\u001b[0m\u001b[0mtf\u001b[0m\u001b[0;34m.\u001b[0m\u001b[0mkeras\u001b[0m\u001b[0;34m.\u001b[0m\u001b[0mlayers\u001b[0m\u001b[0;34m.\u001b[0m\u001b[0mDropout\u001b[0m\u001b[0;34m(\u001b[0m\u001b[0;36m0.15\u001b[0m\u001b[0;34m)\u001b[0m\u001b[0;34m)\u001b[0m\u001b[0;34m\u001b[0m\u001b[0;34m\u001b[0m\u001b[0m\n\u001b[0;32m----> 7\u001b[0;31m \u001b[0mml\u001b[0m\u001b[0;34m.\u001b[0m\u001b[0msummary\u001b[0m\u001b[0;34m(\u001b[0m\u001b[0;34m)\u001b[0m\u001b[0;34m\u001b[0m\u001b[0;34m\u001b[0m\u001b[0m\n\u001b[0m",
            "\u001b[0;32m/usr/local/lib/python3.7/dist-packages/keras/engine/training.py\u001b[0m in \u001b[0;36msummary\u001b[0;34m(self, line_length, positions, print_fn, expand_nested, show_trainable)\u001b[0m\n\u001b[1;32m   2774\u001b[0m     \u001b[0;32mif\u001b[0m \u001b[0;32mnot\u001b[0m \u001b[0mself\u001b[0m\u001b[0;34m.\u001b[0m\u001b[0mbuilt\u001b[0m\u001b[0;34m:\u001b[0m\u001b[0;34m\u001b[0m\u001b[0;34m\u001b[0m\u001b[0m\n\u001b[1;32m   2775\u001b[0m       raise ValueError(\n\u001b[0;32m-> 2776\u001b[0;31m           \u001b[0;34m'This model has not yet been built. '\u001b[0m\u001b[0;34m\u001b[0m\u001b[0;34m\u001b[0m\u001b[0m\n\u001b[0m\u001b[1;32m   2777\u001b[0m           \u001b[0;34m'Build the model first by calling `build()` or by calling '\u001b[0m\u001b[0;34m\u001b[0m\u001b[0;34m\u001b[0m\u001b[0m\n\u001b[1;32m   2778\u001b[0m           'the model on a batch of data.')\n",
            "\u001b[0;31mValueError\u001b[0m: This model has not yet been built. Build the model first by calling `build()` or by calling the model on a batch of data."
          ]
        }
      ]
    },
    {
      "cell_type": "code",
      "source": [
        "adam=tf.keras.optimizers.SGD(learning_rate=0.001)"
      ],
      "metadata": {
        "id": "q2_UR_mtWbXq"
      },
      "execution_count": 98,
      "outputs": []
    },
    {
      "cell_type": "code",
      "source": [
        "ml.compile(loss='MSE',optimizer='adam',metrics=['accuracy'])"
      ],
      "metadata": {
        "id": "_sM3uNOE2BD1"
      },
      "execution_count": 99,
      "outputs": []
    },
    {
      "cell_type": "code",
      "source": [
        "ml.fit(x_train,y_train,epochs=50)"
      ],
      "metadata": {
        "colab": {
          "base_uri": "https://localhost:8080/"
        },
        "id": "cMgE8JAL2hem",
        "outputId": "37f7b75c-bf5f-4406-aa54-bc46e4372903"
      },
      "execution_count": 100,
      "outputs": [
        {
          "output_type": "stream",
          "name": "stdout",
          "text": [
            "Epoch 1/50\n",
            "5/5 [==============================] - 0s 2ms/step - loss: 53158.4805 - accuracy: 0.0000e+00\n",
            "Epoch 2/50\n",
            "5/5 [==============================] - 0s 3ms/step - loss: 53158.4805 - accuracy: 0.0000e+00\n",
            "Epoch 3/50\n",
            "5/5 [==============================] - 0s 3ms/step - loss: 53158.4805 - accuracy: 0.0000e+00\n",
            "Epoch 4/50\n",
            "5/5 [==============================] - 0s 3ms/step - loss: 53158.4805 - accuracy: 0.0000e+00\n",
            "Epoch 5/50\n",
            "5/5 [==============================] - 0s 2ms/step - loss: 53158.4766 - accuracy: 0.0000e+00\n",
            "Epoch 6/50\n",
            "5/5 [==============================] - 0s 2ms/step - loss: 53158.4805 - accuracy: 0.0000e+00\n",
            "Epoch 7/50\n",
            "5/5 [==============================] - 0s 2ms/step - loss: 53158.4805 - accuracy: 0.0000e+00\n",
            "Epoch 8/50\n",
            "5/5 [==============================] - 0s 3ms/step - loss: 53158.4805 - accuracy: 0.0000e+00\n",
            "Epoch 9/50\n",
            "5/5 [==============================] - 0s 3ms/step - loss: 53158.4805 - accuracy: 0.0000e+00\n",
            "Epoch 10/50\n",
            "5/5 [==============================] - 0s 3ms/step - loss: 53158.4805 - accuracy: 0.0000e+00\n",
            "Epoch 11/50\n",
            "5/5 [==============================] - 0s 3ms/step - loss: 53158.4805 - accuracy: 0.0000e+00\n",
            "Epoch 12/50\n",
            "5/5 [==============================] - 0s 3ms/step - loss: 53158.4805 - accuracy: 0.0000e+00\n",
            "Epoch 13/50\n",
            "5/5 [==============================] - 0s 3ms/step - loss: 53158.4766 - accuracy: 0.0000e+00\n",
            "Epoch 14/50\n",
            "5/5 [==============================] - 0s 3ms/step - loss: 53158.4805 - accuracy: 0.0000e+00\n",
            "Epoch 15/50\n",
            "5/5 [==============================] - 0s 3ms/step - loss: 53158.4805 - accuracy: 0.0000e+00\n",
            "Epoch 16/50\n",
            "5/5 [==============================] - 0s 3ms/step - loss: 53158.4805 - accuracy: 0.0000e+00\n",
            "Epoch 17/50\n",
            "5/5 [==============================] - 0s 3ms/step - loss: 53158.4805 - accuracy: 0.0000e+00\n",
            "Epoch 18/50\n",
            "5/5 [==============================] - 0s 2ms/step - loss: 53158.4805 - accuracy: 0.0000e+00\n",
            "Epoch 19/50\n",
            "5/5 [==============================] - 0s 3ms/step - loss: 53158.4805 - accuracy: 0.0000e+00\n",
            "Epoch 20/50\n",
            "5/5 [==============================] - 0s 3ms/step - loss: 53158.4766 - accuracy: 0.0000e+00\n",
            "Epoch 21/50\n",
            "5/5 [==============================] - 0s 3ms/step - loss: 53158.4805 - accuracy: 0.0000e+00\n",
            "Epoch 22/50\n",
            "5/5 [==============================] - 0s 3ms/step - loss: 53158.4805 - accuracy: 0.0000e+00\n",
            "Epoch 23/50\n",
            "5/5 [==============================] - 0s 3ms/step - loss: 53158.4766 - accuracy: 0.0000e+00\n",
            "Epoch 24/50\n",
            "5/5 [==============================] - 0s 3ms/step - loss: 53158.4805 - accuracy: 0.0000e+00\n",
            "Epoch 25/50\n",
            "5/5 [==============================] - 0s 3ms/step - loss: 53158.4805 - accuracy: 0.0000e+00\n",
            "Epoch 26/50\n",
            "5/5 [==============================] - 0s 3ms/step - loss: 53158.4805 - accuracy: 0.0000e+00\n",
            "Epoch 27/50\n",
            "5/5 [==============================] - 0s 2ms/step - loss: 53158.4805 - accuracy: 0.0000e+00\n",
            "Epoch 28/50\n",
            "5/5 [==============================] - 0s 3ms/step - loss: 53158.4805 - accuracy: 0.0000e+00\n",
            "Epoch 29/50\n",
            "5/5 [==============================] - 0s 3ms/step - loss: 53158.4805 - accuracy: 0.0000e+00\n",
            "Epoch 30/50\n",
            "5/5 [==============================] - 0s 2ms/step - loss: 53158.4805 - accuracy: 0.0000e+00\n",
            "Epoch 31/50\n",
            "5/5 [==============================] - 0s 3ms/step - loss: 53158.4805 - accuracy: 0.0000e+00\n",
            "Epoch 32/50\n",
            "5/5 [==============================] - 0s 3ms/step - loss: 53158.4805 - accuracy: 0.0000e+00\n",
            "Epoch 33/50\n",
            "5/5 [==============================] - 0s 3ms/step - loss: 53158.4766 - accuracy: 0.0000e+00\n",
            "Epoch 34/50\n",
            "5/5 [==============================] - 0s 3ms/step - loss: 53158.4805 - accuracy: 0.0000e+00\n",
            "Epoch 35/50\n",
            "5/5 [==============================] - 0s 2ms/step - loss: 53158.4805 - accuracy: 0.0000e+00\n",
            "Epoch 36/50\n",
            "5/5 [==============================] - 0s 2ms/step - loss: 53158.4805 - accuracy: 0.0000e+00\n",
            "Epoch 37/50\n",
            "5/5 [==============================] - 0s 2ms/step - loss: 53158.4805 - accuracy: 0.0000e+00\n",
            "Epoch 38/50\n",
            "5/5 [==============================] - 0s 2ms/step - loss: 53158.4805 - accuracy: 0.0000e+00\n",
            "Epoch 39/50\n",
            "5/5 [==============================] - 0s 2ms/step - loss: 53158.4805 - accuracy: 0.0000e+00\n",
            "Epoch 40/50\n",
            "5/5 [==============================] - 0s 2ms/step - loss: 53158.4805 - accuracy: 0.0000e+00\n",
            "Epoch 41/50\n",
            "5/5 [==============================] - 0s 3ms/step - loss: 53158.4805 - accuracy: 0.0000e+00\n",
            "Epoch 42/50\n",
            "5/5 [==============================] - 0s 3ms/step - loss: 53158.4805 - accuracy: 0.0000e+00\n",
            "Epoch 43/50\n",
            "5/5 [==============================] - 0s 3ms/step - loss: 53158.4805 - accuracy: 0.0000e+00\n",
            "Epoch 44/50\n",
            "5/5 [==============================] - 0s 3ms/step - loss: 53158.4805 - accuracy: 0.0000e+00\n",
            "Epoch 45/50\n",
            "5/5 [==============================] - 0s 3ms/step - loss: 53158.4805 - accuracy: 0.0000e+00\n",
            "Epoch 46/50\n",
            "5/5 [==============================] - 0s 3ms/step - loss: 53158.4805 - accuracy: 0.0000e+00\n",
            "Epoch 47/50\n",
            "5/5 [==============================] - 0s 3ms/step - loss: 53158.4805 - accuracy: 0.0000e+00\n",
            "Epoch 48/50\n",
            "5/5 [==============================] - 0s 3ms/step - loss: 53158.4805 - accuracy: 0.0000e+00\n",
            "Epoch 49/50\n",
            "5/5 [==============================] - 0s 3ms/step - loss: 53158.4805 - accuracy: 0.0000e+00\n",
            "Epoch 50/50\n",
            "5/5 [==============================] - 0s 3ms/step - loss: 53158.4805 - accuracy: 0.0000e+00\n"
          ]
        },
        {
          "output_type": "execute_result",
          "data": {
            "text/plain": [
              "<keras.callbacks.History at 0x7f518d53ca50>"
            ]
          },
          "metadata": {},
          "execution_count": 100
        }
      ]
    },
    {
      "cell_type": "code",
      "source": [
        "test_loss,test_accuracy=ml.evaluate(x_test,y_test)\n",
        "print(test_loss,test_accuracy)"
      ],
      "metadata": {
        "colab": {
          "base_uri": "https://localhost:8080/"
        },
        "id": "BHYP94xa3Grh",
        "outputId": "6eaba92b-6a4d-4e40-ca58-a53d94e1d5f6"
      },
      "execution_count": 101,
      "outputs": [
        {
          "output_type": "stream",
          "name": "stdout",
          "text": [
            "2/2 [==============================] - 0s 7ms/step - loss: 43581.7773 - accuracy: 0.0000e+00\n",
            "43581.77734375 0.0\n"
          ]
        }
      ]
    }
  ]
}