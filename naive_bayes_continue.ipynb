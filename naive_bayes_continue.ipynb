{
  "nbformat": 4,
  "nbformat_minor": 0,
  "metadata": {
    "colab": {
      "name": "naive bayes continue.ipynb",
      "provenance": [],
      "authorship_tag": "ABX9TyNdGosL3fvO78Fk0V/5VwJA",
      "include_colab_link": true
    },
    "kernelspec": {
      "name": "python3",
      "display_name": "Python 3"
    },
    "language_info": {
      "name": "python"
    }
  },
  "cells": [
    {
      "cell_type": "markdown",
      "metadata": {
        "id": "view-in-github",
        "colab_type": "text"
      },
      "source": [
        "<a href=\"https://colab.research.google.com/github/JumanaRahim/Lab/blob/main/naive_bayes_continue.ipynb\" target=\"_parent\"><img src=\"https://colab.research.google.com/assets/colab-badge.svg\" alt=\"Open In Colab\"/></a>"
      ]
    },
    {
      "cell_type": "code",
      "execution_count": 3,
      "metadata": {
        "colab": {
          "base_uri": "https://localhost:8080/"
        },
        "id": "eBscUNFRnsuJ",
        "outputId": "a71a73ba-37bd-4c72-876e-2a11c4914e45"
      },
      "outputs": [
        {
          "output_type": "stream",
          "name": "stdout",
          "text": [
            "47.22222222222222\n"
          ]
        }
      ],
      "source": [
        "import pandas as pd\n",
        "from sklearn.datasets import load_wine\n",
        "data = load_wine()\n",
        "x=data.data\n",
        "y=data.target\n",
        "from sklearn.naive_bayes import BernoulliNB\n",
        "clf=BernoulliNB()\n",
        "from sklearn.model_selection import train_test_split\n",
        "x_train,x_test,y_train,y_test=train_test_split(x,y,test_size=.2,train_size = .8)\n",
        "ML=clf.fit(x_train, y_train)\n",
        "y_pred =clf.predict(x_test)\n",
        "from sklearn.metrics import accuracy_score\n",
        "score=accuracy_score(y_test,y_pred)\n",
        "print(score*100)\n"
      ]
    },
    {
      "cell_type": "code",
      "source": [
        "import pandas as pd\n",
        "from sklearn.datasets import load_wine\n",
        "data = load_wine()\n",
        "x=data.data\n",
        "y=data.target\n",
        "from sklearn.naive_bayes import BernoulliNB\n",
        "clf=BernoulliNB()\n",
        "from sklearn.model_selection import train_test_split\n",
        "x_train,x_test,y_train,y_test=train_test_split(x,y,test_size=.2,train_size = .8)\n",
        "ML=clf.fit(x_train, y_train)\n",
        "y_pred =clf.predict(x_test)\n",
        "from sklearn.metrics import accuracy_score\n",
        "score=accuracy_score(y_test,y_pred)\n",
        "print(score*100)\n",
        "from sklearn.preprocessing import LabelEncoder\n",
        "labelencoder=LabelEncoder()\n"
      ],
      "metadata": {
        "colab": {
          "base_uri": "https://localhost:8080/"
        },
        "id": "repehjVIs-XH",
        "outputId": "2433fd4c-516e-4599-e2f4-5c42a60dec56"
      },
      "execution_count": 4,
      "outputs": [
        {
          "output_type": "stream",
          "name": "stdout",
          "text": [
            "44.44444444444444\n"
          ]
        }
      ]
    },
    {
      "cell_type": "code",
      "source": [
        ""
      ],
      "metadata": {
        "id": "gPCsHqpGs-Vr"
      },
      "execution_count": null,
      "outputs": []
    }
  ]
}