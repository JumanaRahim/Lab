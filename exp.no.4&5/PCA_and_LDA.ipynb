{
  "nbformat": 4,
  "nbformat_minor": 0,
  "metadata": {
    "colab": {
      "name": "PCA and LDA",
      "provenance": [],
      "authorship_tag": "ABX9TyPWoD57B0XdjSxcv1lnvEFE",
      "include_colab_link": true
    },
    "kernelspec": {
      "name": "python3",
      "display_name": "Python 3"
    },
    "language_info": {
      "name": "python"
    }
  },
  "cells": [
    {
      "cell_type": "markdown",
      "metadata": {
        "id": "view-in-github",
        "colab_type": "text"
      },
      "source": [
        "<a href=\"https://colab.research.google.com/github/JumanaRahim/Lab/blob/main/exp.no.4%265/PCA_and_LDA.ipynb\" target=\"_parent\"><img src=\"https://colab.research.google.com/assets/colab-badge.svg\" alt=\"Open In Colab\"/></a>"
      ]
    },
    {
      "cell_type": "code",
      "execution_count": null,
      "metadata": {
        "id": "ji99ZkmdW_TC"
      },
      "outputs": [],
      "source": [
        ""
      ]
    },
    {
      "cell_type": "code",
      "source": [
        "import pandas as pd\n",
        "file=pd.read_csv(\"/content/Iris.csv\")\n",
        "x=file[[\"SepalLengthCm\",\"SepalWidthCm\",\"PetalLengthCm\",\"PetalWidthCm\"]]"
      ],
      "metadata": {
        "id": "qNmazDdxW_pv"
      },
      "execution_count": null,
      "outputs": []
    },
    {
      "cell_type": "code",
      "source": [
        "from sklearn.decomposition import PCA"
      ],
      "metadata": {
        "id": "0TC91KYnZn20"
      },
      "execution_count": null,
      "outputs": []
    },
    {
      "cell_type": "code",
      "source": [
        "pcamodel=PCA(n_components=2)\n",
        "principalcomponents=pcamodel.fit_transform(x)\n",
        "newx=pd.DataFrame(data=principalcomponents,columns=[\"PC1\",\"PC2\"])"
      ],
      "metadata": {
        "id": "Vj48RsJKZuY-"
      },
      "execution_count": null,
      "outputs": []
    },
    {
      "cell_type": "code",
      "source": [
        "import matplotlib.pyplot as plt\n",
        "xaxis=newx['PC1']\n",
        "yaxis=newx['PC2']\n",
        "plt.scatter(xaxis,yaxis)"
      ],
      "metadata": {
        "colab": {
          "base_uri": "https://localhost:8080/",
          "height": 286
        },
        "id": "ow97hmlzbl3v",
        "outputId": "19c15173-e827-4a30-e92e-a48fc18aefee"
      },
      "execution_count": null,
      "outputs": [
        {
          "output_type": "execute_result",
          "data": {
            "text/plain": [
              "<matplotlib.collections.PathCollection at 0x7fdadcb73dd0>"
            ]
          },
          "metadata": {},
          "execution_count": 13
        },
        {
          "output_type": "display_data",
          "data": {
            "text/plain": [
              "<Figure size 432x288 with 1 Axes>"
            ],
            "image/png": "[encoded data removed]"
          },
          "metadata": {
            "needs_background": "light"
          }
        }
      ]
    },
    {
      "cell_type": "code",
      "source": [
        "print(newx)"
      ],
      "metadata": {
        "colab": {
          "base_uri": "https://localhost:8080/"
        },
        "id": "aQNpXmVtdM7W",
        "outputId": "125df8c1-bbbf-4f81-bbb8-3bca1e36b9d4"
      },
      "execution_count": null,
      "outputs": [
        {
          "output_type": "stream",
          "name": "stdout",
          "text": [
            "          PC1       PC2\n",
            "0   -2.684207  0.326607\n",
            "1   -2.715391 -0.169557\n",
            "2   -2.889820 -0.137346\n",
            "3   -2.746437 -0.311124\n",
            "4   -2.728593  0.333925\n",
            "..        ...       ...\n",
            "145  1.944017  0.187415\n",
            "146  1.525664 -0.375021\n",
            "147  1.764046  0.078519\n",
            "148  1.901629  0.115877\n",
            "149  1.389666 -0.282887\n",
            "\n",
            "[150 rows x 2 columns]\n"
          ]
        }
      ]
    },
    {
      "cell_type": "code",
      "source": [
        "from sklearn.cluster import KMeans\n",
        "kmeans = KMeans(n_clusters=2,max_iter=10,random_state=0).fit(newx)"
      ],
      "metadata": {
        "id": "K6QyilHtcc4y"
      },
      "execution_count": null,
      "outputs": []
    },
    {
      "cell_type": "code",
      "source": [
        "centers= kmeans.cluster_centers_\n",
        "labels= kmeans.labels_\n",
        "labels"
      ],
      "metadata": {
        "colab": {
          "base_uri": "https://localhost:8080/"
        },
        "id": "ai0XJHmLeMid",
        "outputId": "50547763-6392-448a-c3e1-565f123a26f5"
      },
      "execution_count": null,
      "outputs": [
        {
          "output_type": "execute_result",
          "data": {
            "text/plain": [
              "array([0, 0, 0, 0, 0, 1, 1, 1, 0, 0, 0, 0, 1, 1, 1, 1, 1, 1, 1, 0, 1, 0,\n",
              "       0, 0, 0, 0, 0, 0, 0, 0, 0, 0, 0, 0, 0, 0, 0, 1, 0, 1, 1, 1, 1],\n",
              "      dtype=int32)"
            ]
          },
          "metadata": {},
          "execution_count": 93
        }
      ]
    },
    {
      "cell_type": "code",
      "source": [
        "print(center)"
      ],
      "metadata": {
        "colab": {
          "base_uri": "https://localhost:8080/"
        },
        "id": "u5kqqNjLiPB2",
        "outputId": "26fb5737-f79a-4b92-fa5a-5d5fe8a675b8"
      },
      "execution_count": null,
      "outputs": [
        {
          "output_type": "stream",
          "name": "stdout",
          "text": [
            "[[-2.53601981  0.12763956]\n",
            " [ 1.38566031 -0.0697412 ]]\n"
          ]
        }
      ]
    },
    {
      "cell_type": "code",
      "source": [
        "plt.scatter(xaxis,yaxis,c=labels,cmap=\"rainbow\")"
      ],
      "metadata": {
        "colab": {
          "base_uri": "https://localhost:8080/",
          "height": 282
        },
        "id": "bZf-XTAEhjCC",
        "outputId": "d395fa72-3db7-4a5e-adf5-30beca2f38f6"
      },
      "execution_count": null,
      "outputs": [
        {
          "output_type": "execute_result",
          "data": {
            "text/plain": [
              "<matplotlib.collections.PathCollection at 0x7fdadae587d0>"
            ]
          },
          "metadata": {},
          "execution_count": 94
        },
        {
          "output_type": "display_data",
          "data": {
            "text/plain": [
              "<Figure size 432x288 with 1 Axes>"
            ],
            "image/png": "[encoded data removed]"
          },
          "metadata": {
            "needs_background": "light"
          }
        }
      ]
    },
    {
      "cell_type": "code",
      "source": [
        "import pandas as pd\n",
        "file=pd.read_csv(\"/content/zoo2.csv\")\n",
        "x=file[[\"hair\",\"feathers\",\"eggs\",\"milk\",\"aquatic\",\"predator\",\"toothed\",\"backbone\",\"breathes\",\"legs\"]]"
      ],
      "metadata": {
        "id": "CUlzkTVqj6bc"
      },
      "execution_count": null,
      "outputs": []
    },
    {
      "cell_type": "code",
      "source": [
        "from sklearn.decomposition import PCA\n",
        "pcamodel=PCA(n_components=2)\n",
        "principalcomponents=pcamodel.fit_transform(x)\n",
        "newx=pd.DataFrame(data=principalcomponents,columns=[\"PC1\",\"PC2\"])"
      ],
      "metadata": {
        "id": "yzvoKL-pn5Ko"
      },
      "execution_count": null,
      "outputs": []
    },
    {
      "cell_type": "code",
      "source": [
        "import matplotlib.pyplot as plt\n",
        "xaxis=newx['PC1']\n",
        "yaxis=newx['PC2']\n",
        "plt.scatter(xaxis,yaxis)"
      ],
      "metadata": {
        "colab": {
          "base_uri": "https://localhost:8080/",
          "height": 282
        },
        "id": "8UumWeRPogSK",
        "outputId": "971803a3-7826-4e8d-de86-02c8284a1901"
      },
      "execution_count": null,
      "outputs": [
        {
          "output_type": "execute_result",
          "data": {
            "text/plain": [
              "<matplotlib.collections.PathCollection at 0x7fdadb212c90>"
            ]
          },
          "metadata": {},
          "execution_count": 77
        },
        {
          "output_type": "display_data",
          "data": {
            "text/plain": [
              "<Figure size 432x288 with 1 Axes>"
            ],
            "image/png": "[encoded data removed]"
          },
          "metadata": {
            "needs_background": "light"
          }
        }
      ]
    },
    {
      "cell_type": "code",
      "source": [
        "print(newx)"
      ],
      "metadata": {
        "colab": {
          "base_uri": "https://localhost:8080/"
        },
        "id": "SoCmUo6vomYb",
        "outputId": "53fa14ae-e03b-45bc-b8a4-67884d669362"
      },
      "execution_count": null,
      "outputs": [
        {
          "output_type": "stream",
          "name": "stdout",
          "text": [
            "         PC1       PC2\n",
            "0   0.138618 -0.766527\n",
            "1   0.364069  0.251299\n",
            "2   0.603744  0.884578\n",
            "3   0.603744  0.884578\n",
            "4   0.364069  0.251299\n",
            "5   0.603744  0.884578\n",
            "6   0.603744  0.884578\n",
            "7   0.603744  0.884578\n",
            "8   0.983841  0.203777\n",
            "9   0.983841  0.203777\n",
            "10  0.983841  0.203777\n",
            "11  0.364069  0.251299\n",
            "12  0.138618 -0.766527\n",
            "13  0.138618 -0.766527\n",
            "14  0.138618 -0.766527\n",
            "15  0.138618 -0.766527\n",
            "16  0.983841  0.203777\n",
            "17  0.138618 -0.766527\n",
            "18  0.138618 -0.766527\n",
            "19  0.744165 -0.429502\n",
            "20  0.744165 -0.429502\n",
            "21  0.744165 -0.429502\n",
            "22  0.744165 -0.429502\n",
            "23  0.744165 -0.429502\n",
            "24  0.744165 -0.429502\n",
            "25 -0.896686  0.062110\n",
            "26 -0.657010  0.695389\n",
            "27 -0.896686  0.062110\n",
            "28 -0.896686  0.062110\n",
            "29 -0.942491  0.067202\n",
            "30 -0.657010  0.695389\n",
            "31 -0.896686  0.062110\n",
            "32 -0.657010  0.695389\n",
            "33 -0.896686  0.062110\n",
            "34 -0.896686  0.062110\n",
            "35 -0.896686  0.062110\n",
            "36 -0.896686  0.062110\n",
            "37 -0.516589 -0.618691\n",
            "38 -0.051462  1.032414\n",
            "39 -0.896686  0.062110\n",
            "40 -0.896686  0.062110\n",
            "41 -0.516589 -0.618691\n",
            "42 -0.516589 -0.618691\n"
          ]
        }
      ]
    },
    {
      "cell_type": "code",
      "source": [
        "from sklearn.cluster import KMeans\n",
        "kmeans = KMeans(n_clusters=10,max_iter=10,random_state=2).fit(newx)"
      ],
      "metadata": {
        "id": "aO8IAzH8oryX"
      },
      "execution_count": null,
      "outputs": []
    },
    {
      "cell_type": "code",
      "source": [
        "centers= kmeans.cluster_centers_\n",
        "labels= kmeans.labels_\n",
        "labels"
      ],
      "metadata": {
        "colab": {
          "base_uri": "https://localhost:8080/"
        },
        "id": "UjKbgFTqpERQ",
        "outputId": "4d64dd82-fd1c-4f3b-ce3e-f2ffd5cc05d3"
      },
      "execution_count": null,
      "outputs": [
        {
          "output_type": "execute_result",
          "data": {
            "text/plain": [
              "array([6, 8, 2, 2, 8, 3, 3, 3, 2, 2, 2, 8, 7, 7, 7, 7, 3, 7, 7, 8, 5, 8,\n",
              "       8, 8, 8, 1, 9, 1, 1, 1, 9, 1, 9, 1, 1, 1, 1, 0, 4, 0, 0, 0, 0],\n",
              "      dtype=int32)"
            ]
          },
          "metadata": {},
          "execution_count": 97
        }
      ]
    },
    {
      "cell_type": "code",
      "source": [
        "print(center)"
      ],
      "metadata": {
        "colab": {
          "base_uri": "https://localhost:8080/"
        },
        "id": "cgYm1wD9pNPV",
        "outputId": "c92c80e6-3f65-4ee1-ebb3-0c7b8911af22"
      },
      "execution_count": null,
      "outputs": [
        {
          "output_type": "stream",
          "name": "stdout",
          "text": [
            "[[-2.53601981  0.12763956]\n",
            " [ 1.38566031 -0.0697412 ]]\n"
          ]
        }
      ]
    },
    {
      "cell_type": "code",
      "source": [
        "plt.scatter(xaxis,yaxis,c=labels,cmap=\"rainbow\")"
      ],
      "metadata": {
        "colab": {
          "base_uri": "https://localhost:8080/",
          "height": 282
        },
        "id": "hFZCZc-kpZdT",
        "outputId": "e5582dc4-e618-42ca-f5fd-5f226ee59d6b"
      },
      "execution_count": null,
      "outputs": [
        {
          "output_type": "execute_result",
          "data": {
            "text/plain": [
              "<matplotlib.collections.PathCollection at 0x7fdadadcb590>"
            ]
          },
          "metadata": {},
          "execution_count": 99
        },
        {
          "output_type": "display_data",
          "data": {
            "text/plain": [
              "<Figure size 432x288 with 1 Axes>"
            ],
            "image/png": "[encoded data removed]"
          },
          "metadata": {
            "needs_background": "light"
          }
        }
      ]
    },
    {
      "cell_type": "code",
      "source": [
        "import pandas as pd\n",
        "file=pd.read_csv(\"/content/zoo2...csv\")"
      ],
      "metadata": {
        "id": "3VK_1lsTpf9e"
      },
      "execution_count": null,
      "outputs": []
    },
    {
      "cell_type": "code",
      "source": [
        "x=file[[\"hair\",\"feathers\",\"eggs\",\"milk\",\"aquatic\",\"predator\",\"toothed\",\"backbone\",\"breathes\",\"legs\"]]"
      ],
      "metadata": {
        "id": "zsz7tPBqPwU_"
      },
      "execution_count": null,
      "outputs": []
    },
    {
      "cell_type": "code",
      "source": [
        "y=file['class_type']"
      ],
      "metadata": {
        "id": "6zhR4dgKTWl_"
      },
      "execution_count": null,
      "outputs": []
    },
    {
      "cell_type": "code",
      "source": [
        "from sklearn.discriminant_analysis import LinearDiscriminantAnalysis\n",
        "lda = LinearDiscriminantAnalysis(n_components=2)\n",
        "ldacomponents=lda.fit_transform(x,y)\n",
        "newdf=pd.DataFrame(data=ldacomponents,columns=[\"lda1\",\"lda2\"])\n",
        "newdf"
      ],
      "metadata": {
        "id": "rIDdFoAyS9fX",
        "outputId": "5cb57474-c34d-450f-87c7-68eb42a226a2",
        "colab": {
          "base_uri": "https://localhost:8080/",
          "height": 1000
        }
      },
      "execution_count": null,
      "outputs": [
        {
          "output_type": "execute_result",
          "data": {
            "text/plain": [
              "        lda1      lda2\n",
              "0  -0.756151 -1.600119\n",
              "1  -2.459435 -0.833285\n",
              "2  -0.571734 -0.786830\n",
              "3  -0.571734 -0.786830\n",
              "4  -2.459435 -0.833285\n",
              "5  -2.689881  0.146706\n",
              "6  -2.689881  0.146706\n",
              "7  -2.689881  0.146706\n",
              "8  -4.132761 -1.055322\n",
              "9  -4.132761 -1.055322\n",
              "10 -4.132761 -1.055322\n",
              "11 -2.459435 -0.833285\n",
              "12  1.450851  3.838085\n",
              "13  1.450851  3.838085\n",
              "14  1.450851  3.838085\n",
              "15  1.450851  3.838085\n",
              "16 -1.925760  4.382882\n",
              "17  1.450851  3.838085\n",
              "18  1.450851  3.838085\n",
              "19 -6.020463 -1.101777\n",
              "20 -7.079536 -0.635009\n",
              "21 -6.020463 -1.101777\n",
              "22 -6.020463 -1.101777\n",
              "23 -6.020463 -1.101777\n",
              "24 -6.020463 -1.101777\n",
              "25  3.863950 -1.798395\n",
              "26  5.751652 -1.751941\n",
              "27  3.863950 -1.798395\n",
              "28  3.863950 -1.798395\n",
              "29  4.709377 -2.222738\n",
              "30  5.751652 -1.751941\n",
              "31  3.863950 -1.798395\n",
              "32  5.751652 -1.751941\n",
              "33  3.863950 -1.798395\n",
              "34  3.863950 -1.798395\n",
              "35  3.863950 -1.798395\n",
              "36  3.863950 -1.798395\n",
              "37  1.450851  3.838085\n",
              "38  1.546414 -1.720367\n",
              "39  0.686729 -0.398091\n",
              "40  0.686729 -0.398091\n",
              "41  1.450851  3.838085\n",
              "42  1.450851  3.838085"
            ],
            "text/html": [
              "\n",
              "  <div id=\"df-65c71f1e-1252-42a2-881b-033908cac587\">\n",
              "    <div class=\"colab-df-container\">\n",
              "      <div>\n",
              "<style scoped>\n",
              "    .dataframe tbody tr th:only-of-type {\n",
              "        vertical-align: middle;\n",
              "    }\n",
              "\n",
              "    .dataframe tbody tr th {\n",
              "        vertical-align: top;\n",
              "    }\n",
              "\n",
              "    .dataframe thead th {\n",
              "        text-align: right;\n",
              "    }\n",
              "</style>\n",
              "<table border=\"1\" class=\"dataframe\">\n",
              "  <thead>\n",
              "    <tr style=\"text-align: right;\">\n",
              "      <th></th>\n",
              "      <th>lda1</th>\n",
              "      <th>lda2</th>\n",
              "    </tr>\n",
              "  </thead>\n",
              "  <tbody>\n",
              "    <tr>\n",
              "      <th>0</th>\n",
              "      <td>-0.756151</td>\n",
              "      <td>-1.600119</td>\n",
              "    </tr>\n",
              "    <tr>\n",
              "      <th>1</th>\n",
              "      <td>-2.459435</td>\n",
              "      <td>-0.833285</td>\n",
              "    </tr>\n",
              "    <tr>\n",
              "      <th>2</th>\n",
              "      <td>-0.571734</td>\n",
              "      <td>-0.786830</td>\n",
              "    </tr>\n",
              "    <tr>\n",
              "      <th>3</th>\n",
              "      <td>-0.571734</td>\n",
              "      <td>-0.786830</td>\n",
              "    </tr>\n",
              "    <tr>\n",
              "      <th>4</th>\n",
              "      <td>-2.459435</td>\n",
              "      <td>-0.833285</td>\n",
              "    </tr>\n",
              "    <tr>\n",
              "      <th>5</th>\n",
              "      <td>-2.689881</td>\n",
              "      <td>0.146706</td>\n",
              "    </tr>\n",
              "    <tr>\n",
              "      <th>6</th>\n",
              "      <td>-2.689881</td>\n",
              "      <td>0.146706</td>\n",
              "    </tr>\n",
              "    <tr>\n",
              "      <th>7</th>\n",
              "      <td>-2.689881</td>\n",
              "      <td>0.146706</td>\n",
              "    </tr>\n",
              "    <tr>\n",
              "      <th>8</th>\n",
              "      <td>-4.132761</td>\n",
              "      <td>-1.055322</td>\n",
              "    </tr>\n",
              "    <tr>\n",
              "      <th>9</th>\n",
              "      <td>-4.132761</td>\n",
              "      <td>-1.055322</td>\n",
              "    </tr>\n",
              "    <tr>\n",
              "      <th>10</th>\n",
              "      <td>-4.132761</td>\n",
              "      <td>-1.055322</td>\n",
              "    </tr>\n",
              "    <tr>\n",
              "      <th>11</th>\n",
              "      <td>-2.459435</td>\n",
              "      <td>-0.833285</td>\n",
              "    </tr>\n",
              "    <tr>\n",
              "      <th>12</th>\n",
              "      <td>1.450851</td>\n",
              "      <td>3.838085</td>\n",
              "    </tr>\n",
              "    <tr>\n",
              "      <th>13</th>\n",
              "      <td>1.450851</td>\n",
              "      <td>3.838085</td>\n",
              "    </tr>\n",
              "    <tr>\n",
              "      <th>14</th>\n",
              "      <td>1.450851</td>\n",
              "      <td>3.838085</td>\n",
              "    </tr>\n",
              "    <tr>\n",
              "      <th>15</th>\n",
              "      <td>1.450851</td>\n",
              "      <td>3.838085</td>\n",
              "    </tr>\n",
              "    <tr>\n",
              "      <th>16</th>\n",
              "      <td>-1.925760</td>\n",
              "      <td>4.382882</td>\n",
              "    </tr>\n",
              "    <tr>\n",
              "      <th>17</th>\n",
              "      <td>1.450851</td>\n",
              "      <td>3.838085</td>\n",
              "    </tr>\n",
              "    <tr>\n",
              "      <th>18</th>\n",
              "      <td>1.450851</td>\n",
              "      <td>3.838085</td>\n",
              "    </tr>\n",
              "    <tr>\n",
              "      <th>19</th>\n",
              "      <td>-6.020463</td>\n",
              "      <td>-1.101777</td>\n",
              "    </tr>\n",
              "    <tr>\n",
              "      <th>20</th>\n",
              "      <td>-7.079536</td>\n",
              "      <td>-0.635009</td>\n",
              "    </tr>\n",
              "    <tr>\n",
              "      <th>21</th>\n",
              "      <td>-6.020463</td>\n",
              "      <td>-1.101777</td>\n",
              "    </tr>\n",
              "    <tr>\n",
              "      <th>22</th>\n",
              "      <td>-6.020463</td>\n",
              "      <td>-1.101777</td>\n",
              "    </tr>\n",
              "    <tr>\n",
              "      <th>23</th>\n",
              "      <td>-6.020463</td>\n",
              "      <td>-1.101777</td>\n",
              "    </tr>\n",
              "    <tr>\n",
              "      <th>24</th>\n",
              "      <td>-6.020463</td>\n",
              "      <td>-1.101777</td>\n",
              "    </tr>\n",
              "    <tr>\n",
              "      <th>25</th>\n",
              "      <td>3.863950</td>\n",
              "      <td>-1.798395</td>\n",
              "    </tr>\n",
              "    <tr>\n",
              "      <th>26</th>\n",
              "      <td>5.751652</td>\n",
              "      <td>-1.751941</td>\n",
              "    </tr>\n",
              "    <tr>\n",
              "      <th>27</th>\n",
              "      <td>3.863950</td>\n",
              "      <td>-1.798395</td>\n",
              "    </tr>\n",
              "    <tr>\n",
              "      <th>28</th>\n",
              "      <td>3.863950</td>\n",
              "      <td>-1.798395</td>\n",
              "    </tr>\n",
              "    <tr>\n",
              "      <th>29</th>\n",
              "      <td>4.709377</td>\n",
              "      <td>-2.222738</td>\n",
              "    </tr>\n",
              "    <tr>\n",
              "      <th>30</th>\n",
              "      <td>5.751652</td>\n",
              "      <td>-1.751941</td>\n",
              "    </tr>\n",
              "    <tr>\n",
              "      <th>31</th>\n",
              "      <td>3.863950</td>\n",
              "      <td>-1.798395</td>\n",
              "    </tr>\n",
              "    <tr>\n",
              "      <th>32</th>\n",
              "      <td>5.751652</td>\n",
              "      <td>-1.751941</td>\n",
              "    </tr>\n",
              "    <tr>\n",
              "      <th>33</th>\n",
              "      <td>3.863950</td>\n",
              "      <td>-1.798395</td>\n",
              "    </tr>\n",
              "    <tr>\n",
              "      <th>34</th>\n",
              "      <td>3.863950</td>\n",
              "      <td>-1.798395</td>\n",
              "    </tr>\n",
              "    <tr>\n",
              "      <th>35</th>\n",
              "      <td>3.863950</td>\n",
              "      <td>-1.798395</td>\n",
              "    </tr>\n",
              "    <tr>\n",
              "      <th>36</th>\n",
              "      <td>3.863950</td>\n",
              "      <td>-1.798395</td>\n",
              "    </tr>\n",
              "    <tr>\n",
              "      <th>37</th>\n",
              "      <td>1.450851</td>\n",
              "      <td>3.838085</td>\n",
              "    </tr>\n",
              "    <tr>\n",
              "      <th>38</th>\n",
              "      <td>1.546414</td>\n",
              "      <td>-1.720367</td>\n",
              "    </tr>\n",
              "    <tr>\n",
              "      <th>39</th>\n",
              "      <td>0.686729</td>\n",
              "      <td>-0.398091</td>\n",
              "    </tr>\n",
              "    <tr>\n",
              "      <th>40</th>\n",
              "      <td>0.686729</td>\n",
              "      <td>-0.398091</td>\n",
              "    </tr>\n",
              "    <tr>\n",
              "      <th>41</th>\n",
              "      <td>1.450851</td>\n",
              "      <td>3.838085</td>\n",
              "    </tr>\n",
              "    <tr>\n",
              "      <th>42</th>\n",
              "      <td>1.450851</td>\n",
              "      <td>3.838085</td>\n",
              "    </tr>\n",
              "  </tbody>\n",
              "</table>\n",
              "</div>\n",
              "      <button class=\"colab-df-convert\" onclick=\"convertToInteractive('df-65c71f1e-1252-42a2-881b-033908cac587')\"\n",
              "              title=\"Convert this dataframe to an interactive table.\"\n",
              "              style=\"display:none;\">\n",
              "        \n",
              "  <svg xmlns=\"http://www.w3.org/2000/svg\" height=\"24px\"viewBox=\"0 0 24 24\"\n",
              "       width=\"24px\">\n",
              "    <path d=\"M0 0h24v24H0V0z\" fill=\"none\"/>\n",
              "    <path d=\"M18.56 5.44l.94 2.06.94-2.06 2.06-.94-2.06-.94-.94-2.06-.94 2.06-2.06.94zm-11 1L8.5 8.5l.94-2.06 2.06-.94-2.06-.94L8.5 2.5l-.94 2.06-2.06.94zm10 10l.94 2.06.94-2.06 2.06-.94-2.06-.94-.94-2.06-.94 2.06-2.06.94z\"/><path d=\"M17.41 7.96l-1.37-1.37c-.4-.4-.92-.59-1.43-.59-.52 0-1.04.2-1.43.59L10.3 9.45l-7.72 7.72c-.78.78-.78 2.05 0 2.83L4 21.41c.39.39.9.59 1.41.59.51 0 1.02-.2 1.41-.59l7.78-7.78 2.81-2.81c.8-.78.8-2.07 0-2.86zM5.41 20L4 18.59l7.72-7.72 1.47 1.35L5.41 20z\"/>\n",
              "  </svg>\n",
              "      </button>\n",
              "      \n",
              "  <style>\n",
              "    .colab-df-container {\n",
              "      display:flex;\n",
              "      flex-wrap:wrap;\n",
              "      gap: 12px;\n",
              "    }\n",
              "\n",
              "    .colab-df-convert {\n",
              "      background-color: #E8F0FE;\n",
              "      border: none;\n",
              "      border-radius: 50%;\n",
              "      cursor: pointer;\n",
              "      display: none;\n",
              "      fill: #1967D2;\n",
              "      height: 32px;\n",
              "      padding: 0 0 0 0;\n",
              "      width: 32px;\n",
              "    }\n",
              "\n",
              "    .colab-df-convert:hover {\n",
              "      background-color: #E2EBFA;\n",
              "      box-shadow: 0px 1px 2px rgba(60, 64, 67, 0.3), 0px 1px 3px 1px rgba(60, 64, 67, 0.15);\n",
              "      fill: #174EA6;\n",
              "    }\n",
              "\n",
              "    [theme=dark] .colab-df-convert {\n",
              "      background-color: #3B4455;\n",
              "      fill: #D2E3FC;\n",
              "    }\n",
              "\n",
              "    [theme=dark] .colab-df-convert:hover {\n",
              "      background-color: #434B5C;\n",
              "      box-shadow: 0px 1px 3px 1px rgba(0, 0, 0, 0.15);\n",
              "      filter: drop-shadow(0px 1px 2px rgba(0, 0, 0, 0.3));\n",
              "      fill: #FFFFFF;\n",
              "    }\n",
              "  </style>\n",
              "\n",
              "      <script>\n",
              "        const buttonEl =\n",
              "          document.querySelector('#df-65c71f1e-1252-42a2-881b-033908cac587 button.colab-df-convert');\n",
              "        buttonEl.style.display =\n",
              "          google.colab.kernel.accessAllowed ? 'block' : 'none';\n",
              "\n",
              "        async function convertToInteractive(key) {\n",
              "          const element = document.querySelector('#df-65c71f1e-1252-42a2-881b-033908cac587');\n",
              "          const dataTable =\n",
              "            await google.colab.kernel.invokeFunction('convertToInteractive',\n",
              "                                                     [key], {});\n",
              "          if (!dataTable) return;\n",
              "\n",
              "          const docLinkHtml = 'Like what you see? Visit the ' +\n",
              "            '<a target=\"_blank\" href=https://colab.research.google.com/notebooks/data_table.ipynb>data table notebook</a>'\n",
              "            + ' to learn more about interactive tables.';\n",
              "          element.innerHTML = '';\n",
              "          dataTable['output_type'] = 'display_data';\n",
              "          await google.colab.output.renderOutput(dataTable, element);\n",
              "          const docLink = document.createElement('div');\n",
              "          docLink.innerHTML = docLinkHtml;\n",
              "          element.appendChild(docLink);\n",
              "        }\n",
              "      </script>\n",
              "    </div>\n",
              "  </div>\n",
              "  "
            ]
          },
          "metadata": {},
          "execution_count": 17
        }
      ]
    },
    {
      "cell_type": "code",
      "source": [
        "Xaxis=newdf['lda1']\n",
        "Yaxis=newdf['lda2']"
      ],
      "metadata": {
        "id": "KXGJQsMYTAXM"
      },
      "execution_count": null,
      "outputs": []
    },
    {
      "cell_type": "code",
      "source": [
        "import matplotlib.pyplot as plt\n",
        "plt.scatter(Xaxis,Yaxis)\n",
        "plt.xlabel('lda1')\n",
        "plt.ylabel('lda2')\n",
        "plt.show()"
      ],
      "metadata": {
        "id": "YP1Ma5KkT5qz",
        "outputId": "ad7c3bd3-317a-4ffc-fdb9-16022b9e7892",
        "colab": {
          "base_uri": "https://localhost:8080/",
          "height": 279
        }
      },
      "execution_count": null,
      "outputs": [
        {
          "output_type": "display_data",
          "data": {
            "text/plain": [
              "<Figure size 432x288 with 1 Axes>"
            ],
            "image/png": "[encoded data removed]"
          },
          "metadata": {
            "needs_background": "light"
          }
        }
      ]
    },
    {
      "cell_type": "code",
      "source": [
        "from sklearn.cluster import KMeans\n",
        "model=KMeans(n_clusters=7,max_iter=300,random_state=0)\n",
        "model=model.fit(newdf)"
      ],
      "metadata": {
        "id": "RuQ25ZkMY1Qg"
      },
      "execution_count": null,
      "outputs": []
    },
    {
      "cell_type": "code",
      "source": [
        "centres=model.cluster_centers_\n",
        "centres"
      ],
      "metadata": {
        "id": "qBJd8VbpZHJU",
        "outputId": "ffda6f39-90bb-4f6a-af7c-d1443e8d0d04",
        "colab": {
          "base_uri": "https://localhost:8080/"
        }
      },
      "execution_count": null,
      "outputs": [
        {
          "output_type": "execute_result",
          "data": {
            "text/plain": [
              "array([[-3.09402573, -0.58063377],\n",
              "       [ 3.95788635, -1.84554436],\n",
              "       [ 1.45085053,  3.83808495],\n",
              "       [-6.1969749 , -1.023982  ],\n",
              "       [-1.92575956,  4.38288156],\n",
              "       [ 0.17004228, -0.94838803],\n",
              "       [ 5.75165166, -1.75194091]])"
            ]
          },
          "metadata": {},
          "execution_count": 21
        },
        {
          "output_type": "execute_result",
          "data": {
            "text/plain": [
              "array([[-3.09402573, -0.58063377],\n",
              "       [ 3.95788635, -1.84554436],\n",
              "       [ 1.45085053,  3.83808495],\n",
              "       [-6.1969749 , -1.023982  ],\n",
              "       [-1.92575956,  4.38288156],\n",
              "       [ 0.17004228, -0.94838803],\n",
              "       [ 5.75165166, -1.75194091]])"
            ]
          },
          "metadata": {},
          "execution_count": 22
        }
      ]
    },
    {
      "cell_type": "code",
      "source": [
        "labels=model.labels_\n",
        "labels"
      ],
      "metadata": {
        "id": "Z89pcb2rZZ3Q",
        "outputId": "e978cbe2-fad3-4188-9a0b-e2fc1a0100ae",
        "colab": {
          "base_uri": "https://localhost:8080/"
        }
      },
      "execution_count": null,
      "outputs": [
        {
          "output_type": "execute_result",
          "data": {
            "text/plain": [
              "array([5, 0, 5, 5, 0, 0, 0, 0, 0, 0, 0, 0, 2, 2, 2, 2, 4, 2, 2, 3, 3, 3,\n",
              "       3, 3, 3, 1, 6, 1, 1, 1, 6, 1, 6, 1, 1, 1, 1, 2, 5, 5, 5, 2, 2],\n",
              "      dtype=int32)"
            ]
          },
          "metadata": {},
          "execution_count": 23
        }
      ]
    },
    {
      "cell_type": "code",
      "source": [
        "from matplotlib.pyplot import figure\n",
        "plt.scatter(Xaxis,Yaxis,c=labels,cmap='rainbow')"
      ],
      "metadata": {
        "id": "rud9R444Z11o",
        "outputId": "9bc2192e-7c4f-4f61-e35d-611c75e9b12e",
        "colab": {
          "base_uri": "https://localhost:8080/",
          "height": 283
        }
      },
      "execution_count": null,
      "outputs": [
        {
          "output_type": "execute_result",
          "data": {
            "text/plain": [
              "<matplotlib.collections.PathCollection at 0x7f8040703a50>"
            ]
          },
          "metadata": {},
          "execution_count": 24
        },
        {
          "output_type": "display_data",
          "data": {
            "text/plain": [
              "<Figure size 432x288 with 1 Axes>"
            ],
            "image/png": "[encoded data removed]"
          },
          "metadata": {
            "needs_background": "light"
          }
        }
      ]
    },
    {
      "cell_type": "code",
      "source": [
        "plt.xlabel('lda1') \n",
        "plt.ylabel('lda2') \n",
        "plt.scatter(centres[0][0],centres[0][1],color='orange') \n",
        "plt.scatter(centres[1][0],centres[1][1],color='green') \n",
        "plt.scatter(centres[2][0],centres[2][1],color='yellow') \n",
        "plt.scatter(centres[3][0],centres[3][1],color='green') \n",
        "plt.scatter(centres[4][0],centres[4][1],color='orange') \n",
        "plt.scatter(centres[5][0],centres[5][1],color='green') \n",
        "plt.scatter(centres[6][0],centres[6][1],color='orange') \n",
        "plt.rcParams['figure.figsize']=(10,8) \n",
        "plt.show()\n"
      ],
      "metadata": {
        "id": "M5xqABJmaH18",
        "outputId": "2e460d6a-3d4b-4330-a72c-4e0b4954acc3",
        "colab": {
          "base_uri": "https://localhost:8080/",
          "height": 279
        }
      },
      "execution_count": null,
      "outputs": [
        {
          "output_type": "display_data",
          "data": {
            "text/plain": [
              "<Figure size 432x288 with 1 Axes>"
            ],
            "image/png": "[encoded data removed]"
          },
          "metadata": {
            "needs_background": "light"
          }
        }
      ]
    },
    {
      "cell_type": "code",
      "source": [
        "from sklearn.datasets import make_blobs \n",
        "file=make_blobs(n_samples=600,n_features=2,centers=2) \n",
        "x=file[0] \n",
        "y=file[1]\n"
      ],
      "metadata": {
        "id": "uFhQSN32arUI"
      },
      "execution_count": null,
      "outputs": []
    }
  ]
}