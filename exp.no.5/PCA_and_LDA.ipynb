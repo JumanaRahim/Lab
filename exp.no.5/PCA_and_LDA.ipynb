{
  "nbformat": 4,
  "nbformat_minor": 0,
  "metadata": {
    "colab": {
      "name": "PCA and LDA",
      "provenance": [],
      "authorship_tag": "ABX9TyNcn/K4+dzB3/7M010/eio4",
      "include_colab_link": true
    },
    "kernelspec": {
      "name": "python3",
      "display_name": "Python 3"
    },
    "language_info": {
      "name": "python"
    }
  },
  "cells": [
    {
      "cell_type": "markdown",
      "metadata": {
        "id": "view-in-github",
        "colab_type": "text"
      },
      "source": [
        "<a href=\"https://colab.research.google.com/github/JumanaRahim/Lab/blob/main/exp.no.5/PCA_and_LDA.ipynb\" target=\"_parent\"><img src=\"https://colab.research.google.com/assets/colab-badge.svg\" alt=\"Open In Colab\"/></a>"
      ]
    },
    {
      "cell_type": "code",
      "execution_count": null,
      "metadata": {
        "id": "ji99ZkmdW_TC"
      },
      "outputs": [],
      "source": [
        ""
      ]
    },
    {
      "cell_type": "code",
      "source": [
        "import pandas as pd\n",
        "file=pd.read_csv(\"/content/Iris.csv\")\n",
        "x=file[[\"SepalLengthCm\",\"SepalWidthCm\",\"PetalLengthCm\",\"PetalWidthCm\"]]"
      ],
      "metadata": {
        "id": "qNmazDdxW_pv"
      },
      "execution_count": 5,
      "outputs": []
    },
    {
      "cell_type": "code",
      "source": [
        "from sklearn.decomposition import PCA"
      ],
      "metadata": {
        "id": "0TC91KYnZn20"
      },
      "execution_count": 6,
      "outputs": []
    },
    {
      "cell_type": "code",
      "source": [
        "pcamodel=PCA(n_components=2)\n",
        "principalcomponents=pcamodel.fit_transform(x)\n",
        "newx=pd.DataFrame(data=principalcomponents,columns=[\"PC1\",\"PC2\"])"
      ],
      "metadata": {
        "id": "Vj48RsJKZuY-"
      },
      "execution_count": 10,
      "outputs": []
    },
    {
      "cell_type": "code",
      "source": [
        "import matplotlib.pyplot as plt\n",
        "xaxis=newx['PC1']\n",
        "yaxis=newx['PC2']\n",
        "plt.scatter(xaxis,yaxis)"
      ],
      "metadata": {
        "colab": {
          "base_uri": "https://localhost:8080/",
          "height": 286
        },
        "id": "ow97hmlzbl3v",
        "outputId": "19c15173-e827-4a30-e92e-a48fc18aefee"
      },
      "execution_count": 13,
      "outputs": [
        {
          "output_type": "execute_result",
          "data": {
            "text/plain": [
              "<matplotlib.collections.PathCollection at 0x7fdadcb73dd0>"
            ]
          },
          "metadata": {},
          "execution_count": 13
        },
        {
          "output_type": "display_data",
          "data": {
            "text/plain": [
              "<Figure size 432x288 with 1 Axes>"
            ],
            "image/png": "[encoded data removed]"
          },
          "metadata": {
            "needs_background": "light"
          }
        }
      ]
    },
    {
      "cell_type": "code",
      "source": [
        "print(newx)"
      ],
      "metadata": {
        "colab": {
          "base_uri": "https://localhost:8080/"
        },
        "id": "aQNpXmVtdM7W",
        "outputId": "125df8c1-bbbf-4f81-bbb8-3bca1e36b9d4"
      },
      "execution_count": 15,
      "outputs": [
        {
          "output_type": "stream",
          "name": "stdout",
          "text": [
            "          PC1       PC2\n",
            "0   -2.684207  0.326607\n",
            "1   -2.715391 -0.169557\n",
            "2   -2.889820 -0.137346\n",
            "3   -2.746437 -0.311124\n",
            "4   -2.728593  0.333925\n",
            "..        ...       ...\n",
            "145  1.944017  0.187415\n",
            "146  1.525664 -0.375021\n",
            "147  1.764046  0.078519\n",
            "148  1.901629  0.115877\n",
            "149  1.389666 -0.282887\n",
            "\n",
            "[150 rows x 2 columns]\n"
          ]
        }
      ]
    },
    {
      "cell_type": "code",
      "source": [
        "from sklearn.cluster import KMeans\n",
        "kmeans = KMeans(n_clusters=2,max_iter=10,random_state=0).fit(newx)"
      ],
      "metadata": {
        "id": "K6QyilHtcc4y"
      },
      "execution_count": 92,
      "outputs": []
    },
    {
      "cell_type": "code",
      "source": [
        "centers= kmeans.cluster_centers_\n",
        "labels= kmeans.labels_\n",
        "labels"
      ],
      "metadata": {
        "colab": {
          "base_uri": "https://localhost:8080/"
        },
        "id": "ai0XJHmLeMid",
        "outputId": "50547763-6392-448a-c3e1-565f123a26f5"
      },
      "execution_count": 93,
      "outputs": [
        {
          "output_type": "execute_result",
          "data": {
            "text/plain": [
              "array([0, 0, 0, 0, 0, 1, 1, 1, 0, 0, 0, 0, 1, 1, 1, 1, 1, 1, 1, 0, 1, 0,\n",
              "       0, 0, 0, 0, 0, 0, 0, 0, 0, 0, 0, 0, 0, 0, 0, 1, 0, 1, 1, 1, 1],\n",
              "      dtype=int32)"
            ]
          },
          "metadata": {},
          "execution_count": 93
        }
      ]
    },
    {
      "cell_type": "code",
      "source": [
        "print(center)"
      ],
      "metadata": {
        "colab": {
          "base_uri": "https://localhost:8080/"
        },
        "id": "u5kqqNjLiPB2",
        "outputId": "26fb5737-f79a-4b92-fa5a-5d5fe8a675b8"
      },
      "execution_count": 41,
      "outputs": [
        {
          "output_type": "stream",
          "name": "stdout",
          "text": [
            "[[-2.53601981  0.12763956]\n",
            " [ 1.38566031 -0.0697412 ]]\n"
          ]
        }
      ]
    },
    {
      "cell_type": "code",
      "source": [
        "plt.scatter(xaxis,yaxis,c=labels,cmap=\"rainbow\")"
      ],
      "metadata": {
        "colab": {
          "base_uri": "https://localhost:8080/",
          "height": 282
        },
        "id": "bZf-XTAEhjCC",
        "outputId": "d395fa72-3db7-4a5e-adf5-30beca2f38f6"
      },
      "execution_count": 94,
      "outputs": [
        {
          "output_type": "execute_result",
          "data": {
            "text/plain": [
              "<matplotlib.collections.PathCollection at 0x7fdadae587d0>"
            ]
          },
          "metadata": {},
          "execution_count": 94
        },
        {
          "output_type": "display_data",
          "data": {
            "text/plain": [
              "<Figure size 432x288 with 1 Axes>"
            ],
            "image/png": "[encoded data removed]"
          },
          "metadata": {
            "needs_background": "light"
          }
        }
      ]
    },
    {
      "cell_type": "code",
      "source": [
        "import pandas as pd\n",
        "file=pd.read_csv(\"/content/zoo2.csv\")\n",
        "x=file[[\"hair\",\"feathers\",\"eggs\",\"milk\",\"aquatic\",\"predator\",\"toothed\",\"backbone\",\"breathes\",\"legs\"]]"
      ],
      "metadata": {
        "id": "CUlzkTVqj6bc"
      },
      "execution_count": 75,
      "outputs": []
    },
    {
      "cell_type": "code",
      "source": [
        "from sklearn.decomposition import PCA\n",
        "pcamodel=PCA(n_components=2)\n",
        "principalcomponents=pcamodel.fit_transform(x)\n",
        "newx=pd.DataFrame(data=principalcomponents,columns=[\"PC1\",\"PC2\"])"
      ],
      "metadata": {
        "id": "yzvoKL-pn5Ko"
      },
      "execution_count": 76,
      "outputs": []
    },
    {
      "cell_type": "code",
      "source": [
        "import matplotlib.pyplot as plt\n",
        "xaxis=newx['PC1']\n",
        "yaxis=newx['PC2']\n",
        "plt.scatter(xaxis,yaxis)"
      ],
      "metadata": {
        "colab": {
          "base_uri": "https://localhost:8080/",
          "height": 282
        },
        "id": "8UumWeRPogSK",
        "outputId": "971803a3-7826-4e8d-de86-02c8284a1901"
      },
      "execution_count": 77,
      "outputs": [
        {
          "output_type": "execute_result",
          "data": {
            "text/plain": [
              "<matplotlib.collections.PathCollection at 0x7fdadb212c90>"
            ]
          },
          "metadata": {},
          "execution_count": 77
        },
        {
          "output_type": "display_data",
          "data": {
            "text/plain": [
              "<Figure size 432x288 with 1 Axes>"
            ],
            "image/png": "[encoded data removed]"
          },
          "metadata": {
            "needs_background": "light"
          }
        }
      ]
    },
    {
      "cell_type": "code",
      "source": [
        "print(newx)"
      ],
      "metadata": {
        "colab": {
          "base_uri": "https://localhost:8080/"
        },
        "id": "SoCmUo6vomYb",
        "outputId": "53fa14ae-e03b-45bc-b8a4-67884d669362"
      },
      "execution_count": 70,
      "outputs": [
        {
          "output_type": "stream",
          "name": "stdout",
          "text": [
            "         PC1       PC2\n",
            "0   0.138618 -0.766527\n",
            "1   0.364069  0.251299\n",
            "2   0.603744  0.884578\n",
            "3   0.603744  0.884578\n",
            "4   0.364069  0.251299\n",
            "5   0.603744  0.884578\n",
            "6   0.603744  0.884578\n",
            "7   0.603744  0.884578\n",
            "8   0.983841  0.203777\n",
            "9   0.983841  0.203777\n",
            "10  0.983841  0.203777\n",
            "11  0.364069  0.251299\n",
            "12  0.138618 -0.766527\n",
            "13  0.138618 -0.766527\n",
            "14  0.138618 -0.766527\n",
            "15  0.138618 -0.766527\n",
            "16  0.983841  0.203777\n",
            "17  0.138618 -0.766527\n",
            "18  0.138618 -0.766527\n",
            "19  0.744165 -0.429502\n",
            "20  0.744165 -0.429502\n",
            "21  0.744165 -0.429502\n",
            "22  0.744165 -0.429502\n",
            "23  0.744165 -0.429502\n",
            "24  0.744165 -0.429502\n",
            "25 -0.896686  0.062110\n",
            "26 -0.657010  0.695389\n",
            "27 -0.896686  0.062110\n",
            "28 -0.896686  0.062110\n",
            "29 -0.942491  0.067202\n",
            "30 -0.657010  0.695389\n",
            "31 -0.896686  0.062110\n",
            "32 -0.657010  0.695389\n",
            "33 -0.896686  0.062110\n",
            "34 -0.896686  0.062110\n",
            "35 -0.896686  0.062110\n",
            "36 -0.896686  0.062110\n",
            "37 -0.516589 -0.618691\n",
            "38 -0.051462  1.032414\n",
            "39 -0.896686  0.062110\n",
            "40 -0.896686  0.062110\n",
            "41 -0.516589 -0.618691\n",
            "42 -0.516589 -0.618691\n"
          ]
        }
      ]
    },
    {
      "cell_type": "code",
      "source": [
        "from sklearn.cluster import KMeans\n",
        "kmeans = KMeans(n_clusters=10,max_iter=10,random_state=2).fit(newx)"
      ],
      "metadata": {
        "id": "aO8IAzH8oryX"
      },
      "execution_count": 96,
      "outputs": []
    },
    {
      "cell_type": "code",
      "source": [
        "centers= kmeans.cluster_centers_\n",
        "labels= kmeans.labels_\n",
        "labels"
      ],
      "metadata": {
        "colab": {
          "base_uri": "https://localhost:8080/"
        },
        "id": "UjKbgFTqpERQ",
        "outputId": "4d64dd82-fd1c-4f3b-ce3e-f2ffd5cc05d3"
      },
      "execution_count": 97,
      "outputs": [
        {
          "output_type": "execute_result",
          "data": {
            "text/plain": [
              "array([6, 8, 2, 2, 8, 3, 3, 3, 2, 2, 2, 8, 7, 7, 7, 7, 3, 7, 7, 8, 5, 8,\n",
              "       8, 8, 8, 1, 9, 1, 1, 1, 9, 1, 9, 1, 1, 1, 1, 0, 4, 0, 0, 0, 0],\n",
              "      dtype=int32)"
            ]
          },
          "metadata": {},
          "execution_count": 97
        }
      ]
    },
    {
      "cell_type": "code",
      "source": [
        "print(center)"
      ],
      "metadata": {
        "colab": {
          "base_uri": "https://localhost:8080/"
        },
        "id": "cgYm1wD9pNPV",
        "outputId": "c92c80e6-3f65-4ee1-ebb3-0c7b8911af22"
      },
      "execution_count": 98,
      "outputs": [
        {
          "output_type": "stream",
          "name": "stdout",
          "text": [
            "[[-2.53601981  0.12763956]\n",
            " [ 1.38566031 -0.0697412 ]]\n"
          ]
        }
      ]
    },
    {
      "cell_type": "code",
      "source": [
        "plt.scatter(xaxis,yaxis,c=labels,cmap=\"rainbow\")"
      ],
      "metadata": {
        "colab": {
          "base_uri": "https://localhost:8080/",
          "height": 282
        },
        "id": "hFZCZc-kpZdT",
        "outputId": "e5582dc4-e618-42ca-f5fd-5f226ee59d6b"
      },
      "execution_count": 99,
      "outputs": [
        {
          "output_type": "execute_result",
          "data": {
            "text/plain": [
              "<matplotlib.collections.PathCollection at 0x7fdadadcb590>"
            ]
          },
          "metadata": {},
          "execution_count": 99
        },
        {
          "output_type": "display_data",
          "data": {
            "text/plain": [
              "<Figure size 432x288 with 1 Axes>"
            ],
            "image/png": "[encoded data removed]"
          },
          "metadata": {
            "needs_background": "light"
          }
        }
      ]
    },
    {
      "cell_type": "code",
      "source": [
        ""
      ],
      "metadata": {
        "id": "3VK_1lsTpf9e"
      },
      "execution_count": null,
      "outputs": []
    }
  ]
}