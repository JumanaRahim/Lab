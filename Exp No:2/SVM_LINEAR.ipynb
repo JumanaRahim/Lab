{
  "nbformat": 4,
  "nbformat_minor": 0,
  "metadata": {
    "colab": {
      "name": "SVM_LINEAR.ipynb",
      "provenance": [],
      "collapsed_sections": [],
      "authorship_tag": "ABX9TyOUOdi/BMLSruv5a2zMNIsQ",
      "include_colab_link": true
    },
    "kernelspec": {
      "name": "python3",
      "display_name": "Python 3"
    },
    "language_info": {
      "name": "python"
    }
  },
  "cells": [
    {
      "cell_type": "markdown",
      "metadata": {
        "id": "view-in-github",
        "colab_type": "text"
      },
      "source": [
        "<a href=\"https://colab.research.google.com/github/JumanaRahim/Lab/blob/main/Exp%20No%3A2/SVM_LINEAR.ipynb\" target=\"_parent\"><img src=\"https://colab.research.google.com/assets/colab-badge.svg\" alt=\"Open In Colab\"/></a>"
      ]
    },
    {
      "cell_type": "code",
      "execution_count": null,
      "metadata": {
        "colab": {
          "base_uri": "https://localhost:8080/"
        },
        "id": "HjrsZOpZLVYz",
        "outputId": "d77c0b17-9572-49c1-bc65-7b938d6f60fb"
      },
      "outputs": [
        {
          "output_type": "stream",
          "name": "stdout",
          "text": [
            "['Iris-virginica']\n"
          ]
        },
        {
          "output_type": "stream",
          "name": "stderr",
          "text": [
            "/usr/local/lib/python3.7/dist-packages/sklearn/base.py:451: UserWarning: X does not have valid feature names, but SVC was fitted with feature names\n",
            "  \"X does not have valid feature names, but\"\n"
          ]
        }
      ],
      "source": [
        "#1. load data\n",
        "import pandas as pd\n",
        "data=pd.read_csv(\"/content/Iris (1) (1).csv\")\n",
        "x=data[[\"SepalLengthCm\",\"SepalWidthCm\",\"PetalLengthCm\",\"PetalWidthCm\"]]\n",
        "y=data[\"Species\"]\n",
        "#2. load ML model\n",
        "from sklearn.svm import SVC\n",
        "clf = SVC(kernel='linear')\n",
        "#3. fit data into model\n",
        "from sklearn.model_selection import train_test_split\n",
        "x_train,x_test,y_train,y_test=train_test_split(x,y,test_size=0.2)\n",
        "ML=clf.fit(x_train, y_train) \n",
        "op=ML.predict([[8.2,9.3,4.2,8.7]])\n",
        "#4. testing \n",
        "print(op)\n"
      ]
    }
  ]
}