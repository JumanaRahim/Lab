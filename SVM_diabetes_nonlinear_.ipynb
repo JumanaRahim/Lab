{
  "nbformat": 4,
  "nbformat_minor": 0,
  "metadata": {
    "colab": {
      "name": "SVM_diabetes_nonlinear .ipynb",
      "provenance": [],
      "authorship_tag": "ABX9TyOF5jjYge/nQoYONg2vY+rM",
      "include_colab_link": true
    },
    "kernelspec": {
      "name": "python3",
      "display_name": "Python 3"
    },
    "language_info": {
      "name": "python"
    }
  },
  "cells": [
    {
      "cell_type": "markdown",
      "metadata": {
        "id": "view-in-github",
        "colab_type": "text"
      },
      "source": [
        "<a href=\"https://colab.research.google.com/github/JumanaRahim/Lab/blob/main/SVM_diabetes_nonlinear_.ipynb\" target=\"_parent\"><img src=\"https://colab.research.google.com/assets/colab-badge.svg\" alt=\"Open In Colab\"/></a>"
      ]
    },
    {
      "cell_type": "code",
      "execution_count": 17,
      "metadata": {
        "colab": {
          "base_uri": "https://localhost:8080/"
        },
        "id": "FpL7X6_H1_Ym",
        "outputId": "cb23770a-7c2a-484e-cf2d-97f4dffb9c7a"
      },
      "outputs": [
        {
          "output_type": "stream",
          "name": "stdout",
          "text": [
            "[[89  9]\n",
            " [27 29]]\n",
            "76.62337662337663\n"
          ]
        }
      ],
      "source": [
        "#1. load data\n",
        "import pandas as pd\n",
        "data=pd.read_csv(\"/content/diabetes.csv\")\n",
        "x=data[[\"Pregnancies\",\"Glucose\",\"BloodPressure\",\"SkinThickness\",\"Insulin\",\"BMI\",\"DiabetesPedigreeFunction\"]]\n",
        "y=data[\"Outcome\"]\n",
        "#2. load ML model\n",
        "from sklearn.svm import SVC\n",
        "clf = SVC(kernel=\"rbf\")\n",
        "#3. fit data into model\n",
        "from sklearn.model_selection import train_test_split\n",
        "x_train,x_test,y_train,y_test=train_test_split(x,y,test_size=.2,train_size = .8)\n",
        "ML=clf.fit(x_train, y_train)\n",
        "#4. testing\n",
        "from sklearn.metrics import confusion_matrix\n",
        "y_pred =clf.predict(x_test)  \n",
        "cm = confusion_matrix(y_test, y_pred)\n",
        "print(cm)\n",
        "from sklearn.metrics import accuracy_score\n",
        "score=accuracy_score(y_test,y_pred)\n",
        "print(score*100)\n",
        "\n",
        "\n"
      ]
    },
    {
      "cell_type": "code",
      "source": [
        ""
      ],
      "metadata": {
        "id": "DtBp40G150pc"
      },
      "execution_count": null,
      "outputs": []
    }
  ]
}