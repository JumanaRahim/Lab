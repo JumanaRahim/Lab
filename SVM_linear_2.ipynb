{
  "nbformat": 4,
  "nbformat_minor": 0,
  "metadata": {
    "colab": {
      "name": "SVM_linear 2.ipynb",
      "provenance": [],
      "authorship_tag": "ABX9TyPBOtCu7it3AdFsXfFcHGzI",
      "include_colab_link": true
    },
    "kernelspec": {
      "name": "python3",
      "display_name": "Python 3"
    },
    "language_info": {
      "name": "python"
    }
  },
  "cells": [
    {
      "cell_type": "markdown",
      "metadata": {
        "id": "view-in-github",
        "colab_type": "text"
      },
      "source": [
        "<a href=\"https://colab.research.google.com/github/JumanaRahim/Lab/blob/main/SVM_linear_2.ipynb\" target=\"_parent\"><img src=\"https://colab.research.google.com/assets/colab-badge.svg\" alt=\"Open In Colab\"/></a>"
      ]
    },
    {
      "cell_type": "code",
      "execution_count": null,
      "metadata": {
        "colab": {
          "base_uri": "https://localhost:8080/"
        },
        "id": "FpL7X6_H1_Ym",
        "outputId": "3acef322-9949-4bb7-8243-45e57987999a"
      },
      "outputs": [
        {
          "output_type": "stream",
          "name": "stdout",
          "text": [
            "[[10  0  0]\n",
            " [ 0 10  1]\n",
            " [ 0  0  9]]\n",
            "96.66666666666667\n"
          ]
        }
      ],
      "source": [
        "#1. load data\n",
        "import pandas as pd\n",
        "data=pd.read_csv(\"/content/Iris (1) (1).csv\")\n",
        "x=data[[\"SepalLengthCm\",\"SepalWidthCm\",\"PetalLengthCm\",\"PetalWidthCm\"]]\n",
        "y=data[\"Species\"]\n",
        "#2. load ML model\n",
        "from sklearn.svm import SVC\n",
        "clf = SVC(kernel='linear')\n",
        "#3. fit data into model\n",
        "from sklearn.model_selection import train_test_split\n",
        "x_train,x_test,y_train,y_test=train_test_split(x,y,test_size=0.2,train_size = 0.8)\n",
        "ML=clf.fit(x_train, y_train)\n",
        "#4. testing\n",
        "from sklearn.metrics import confusion_matrix\n",
        "y_pred =clf.predict(x_test)  \n",
        "cm = confusion_matrix(y_test, y_pred)\n",
        "print(cm)\n",
        "from sklearn.metrics import accuracy_score\n",
        "score=accuracy_score(y_test,y_pred)\n",
        "print(score*100)\n",
        "\n",
        "\n"
      ]
    },
    {
      "cell_type": "code",
      "source": [
        "#1. load data\n",
        "from sklearn.datasets import load_iris\n",
        "file=load_iris()\n",
        "x=file.data\n",
        "y=file.target\n",
        "#2. load ML model\n",
        "from sklearn.svm import SVC\n",
        "clf = SVC(kernel='linear',C=100)\n",
        "#3. fit data into model\n",
        "from sklearn.model_selection import train_test_split\n",
        "x_train,x_test,y_train,y_test=train_test_split(x,y,test_size=0.2,train_size = 0.8)\n",
        "ML=clf.fit(x_train, y_train)\n",
        "#4. testing\n",
        "from sklearn.metrics import confusion_matrix\n",
        "y_pred =clf.predict(x_test)  \n",
        "cm = confusion_matrix(y_test, y_pred)\n",
        "print(cm)\n",
        "from sklearn.metrics import accuracy_score\n",
        "score=accuracy_score(y_test,y_pred)\n",
        "print(score*100)  "
      ],
      "metadata": {
        "id": "DtBp40G150pc",
        "colab": {
          "base_uri": "https://localhost:8080/"
        },
        "outputId": "5340291f-c630-477d-c191-afe22976ba33"
      },
      "execution_count": 13,
      "outputs": [
        {
          "output_type": "stream",
          "name": "stdout",
          "text": [
            "[[13  0  0]\n",
            " [ 0 10  0]\n",
            " [ 0  0  7]]\n",
            "100.0\n"
          ]
        }
      ]
    },
    {
      "cell_type": "code",
      "source": [
        "#1. load data\n",
        "from sklearn.datasets import load_iris\n",
        "file=load_iris()\n",
        "x=file.data\n",
        "y=file.target\n",
        "#2. load ML model\n",
        "from sklearn.svm import SVC\n",
        "clf = SVC(kernel='rbf',C=15)\n",
        "#3. fit data into model\n",
        "from sklearn.model_selection import train_test_split\n",
        "x_train,x_test,y_train,y_test=train_test_split(x,y,test_size=0.2,train_size = 0.8)\n",
        "ML=clf.fit(x_train, y_train)\n",
        "#4. testing\n",
        "from sklearn.metrics import confusion_matrix\n",
        "y_pred =clf.predict(x_test)  \n",
        "cm = confusion_matrix(y_test, y_pred)\n",
        "print(cm)\n",
        "from sklearn.metrics import accuracy_score\n",
        "score=accuracy_score(y_test,y_pred)\n",
        "print(score*100)"
      ],
      "metadata": {
        "id": "muXUK2BLBx2g",
        "outputId": "d40121c4-d5c7-47cf-e4d4-c18d00e491e4",
        "colab": {
          "base_uri": "https://localhost:8080/"
        }
      },
      "execution_count": 16,
      "outputs": [
        {
          "output_type": "stream",
          "name": "stdout",
          "text": [
            "[[ 9  0  0]\n",
            " [ 0 10  1]\n",
            " [ 0  0 10]]\n",
            "96.66666666666667\n"
          ]
        }
      ]
    },
    {
      "cell_type": "code",
      "source": [
        ""
      ],
      "metadata": {
        "id": "uxYWj71GArzV"
      },
      "execution_count": null,
      "outputs": []
    }
  ]
}