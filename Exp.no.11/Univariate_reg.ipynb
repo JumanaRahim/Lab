{
  "nbformat": 4,
  "nbformat_minor": 0,
  "metadata": {
    "colab": {
      "name": "Univariate_reg.ipynb",
      "provenance": [],
      "authorship_tag": "ABX9TyMUSWxHJJFQXvBTmUZS/SY9",
      "include_colab_link": true
    },
    "kernelspec": {
      "name": "python3",
      "display_name": "Python 3"
    },
    "language_info": {
      "name": "python"
    }
  },
  "cells": [
    {
      "cell_type": "markdown",
      "metadata": {
        "id": "view-in-github",
        "colab_type": "text"
      },
      "source": [
        "<a href=\"https://colab.research.google.com/github/JumanaRahim/Lab/blob/main/Exp.no.11/Univariate_reg.ipynb\" target=\"_parent\"><img src=\"https://colab.research.google.com/assets/colab-badge.svg\" alt=\"Open In Colab\"/></a>"
      ]
    },
    {
      "cell_type": "code",
      "execution_count": 6,
      "metadata": {
        "id": "SVpk70j47shR"
      },
      "outputs": [],
      "source": [
        "import numpy as np\n",
        "import pandas as pd\n",
        "import matplotlib.pyplot as plt"
      ]
    },
    {
      "cell_type": "code",
      "source": [
        "#Create data\n",
        "from sklearn.datasets import make_regression\n",
        "data = make_regression (n_samples=10, n_features=1,\n",
        "n_targets=1,bias=15, noise=5, random_state=42)\n",
        "X= pd. DataFrame (data[0]). values\n",
        "Y= pd. Series (data[1]). values"
      ],
      "metadata": {
        "id": "zPTofsfo75Nw"
      },
      "execution_count": 7,
      "outputs": []
    },
    {
      "cell_type": "code",
      "source": [
        "#Build model\n",
        "from sklearn.linear_model import LinearRegression\n",
        "lin= LinearRegression()\n",
        "#fit Model\n",
        "lin.fit (X, Y)\n",
        "#Predict\n",
        "y_pred = lin.predict(X)\n",
        "lin.predict([[25]])"
      ],
      "metadata": {
        "colab": {
          "base_uri": "https://localhost:8080/"
        },
        "id": "8hBgnP-B8mHF",
        "outputId": "887a0bcd-0a96-431d-96ef-c137ce82d0c3"
      },
      "execution_count": 11,
      "outputs": [
        {
          "output_type": "execute_result",
          "data": {
            "text/plain": [
              "array([497.41900852])"
            ]
          },
          "metadata": {},
          "execution_count": 11
        }
      ]
    }
  ]
}