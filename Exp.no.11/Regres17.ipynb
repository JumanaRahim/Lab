{
  "nbformat": 4,
  "nbformat_minor": 0,
  "metadata": {
    "colab": {
      "name": "Regres17.ipynb",
      "provenance": [],
      "authorship_tag": "ABX9TyOaoDUyLkUjx4pLsKIukWED",
      "include_colab_link": true
    },
    "kernelspec": {
      "name": "python3",
      "display_name": "Python 3"
    },
    "language_info": {
      "name": "python"
    }
  },
  "cells": [
    {
      "cell_type": "markdown",
      "metadata": {
        "id": "view-in-github",
        "colab_type": "text"
      },
      "source": [
        "<a href=\"https://colab.research.google.com/github/JumanaRahim/Lab/blob/main/Exp.no.11/Regres17.ipynb\" target=\"_parent\"><img src=\"https://colab.research.google.com/assets/colab-badge.svg\" alt=\"Open In Colab\"/></a>"
      ]
    },
    {
      "cell_type": "markdown",
      "source": [
        "## Univariate Regression"
      ],
      "metadata": {
        "id": "OYohSav0_DZ6"
      }
    },
    {
      "cell_type": "code",
      "execution_count": 11,
      "metadata": {
        "id": "KA3QU3G29QBY"
      },
      "outputs": [],
      "source": [
        "import numpy as np\n",
        "import pandas as pd\n",
        "import seaborn as sns\n",
        "import matplotlib.pyplot as plt\n",
        "from sklearn import preprocessing, svm\n",
        "from sklearn.model_selection import train_test_split\n",
        "from sklearn.linear_model import LinearRegression, Lasso, Ridge\n",
        "from sklearn.datasets import make_regression\n",
        "from sklearn.model_selection import train_test_split\n",
        "import sklearn.metrics as metrics"
      ]
    },
    {
      "cell_type": "code",
      "source": [
        "X, y = make_regression(n_features=1, n_targets=1, noise=12)"
      ],
      "metadata": {
        "id": "K880eG1L9okL"
      },
      "execution_count": 12,
      "outputs": []
    },
    {
      "cell_type": "code",
      "source": [
        "X_train, X_test, y_train, y_test = train_test_split(X, y, test_size=0.33, random_state=42)"
      ],
      "metadata": {
        "id": "QzlbdAMy95km"
      },
      "execution_count": 13,
      "outputs": []
    },
    {
      "cell_type": "code",
      "source": [
        "lr = LinearRegression()\n",
        "lr.fit(X_train, y_train)\n",
        "print(lr.score(X_test,y_test))"
      ],
      "metadata": {
        "colab": {
          "base_uri": "https://localhost:8080/"
        },
        "id": "yGWWVnMn_gO0",
        "outputId": "6e8ee04a-a7bb-4047-f087-7d1b17dc51c1"
      },
      "execution_count": 14,
      "outputs": [
        {
          "output_type": "stream",
          "name": "stdout",
          "text": [
            "0.9828830343840349\n"
          ]
        }
      ]
    },
    {
      "cell_type": "code",
      "source": [
        "y_pred = lr.predict(X_test)"
      ],
      "metadata": {
        "id": "sPaH3Qt3_kGe"
      },
      "execution_count": 15,
      "outputs": []
    },
    {
      "cell_type": "code",
      "source": [
        "coef = lr.coef_\n",
        "intercept = lr.intercept_\n",
        "print('coef= ', coef)\n",
        "print('intercept= ', intercept)"
      ],
      "metadata": {
        "colab": {
          "base_uri": "https://localhost:8080/"
        },
        "id": "EhwvuD-S_ngs",
        "outputId": "d61c74f1-07ed-40ca-961b-6f2aca3e618f"
      },
      "execution_count": 16,
      "outputs": [
        {
          "output_type": "stream",
          "name": "stdout",
          "text": [
            "coef=  [97.56672991]\n",
            "intercept=  0.07368028663516846\n"
          ]
        }
      ]
    },
    {
      "cell_type": "code",
      "source": [
        "mae = metrics.mean_absolute_error(y_test, y_pred)\n",
        "mse = metrics.mean_squared_error(y_test, y_pred)\n",
        "rmse = np.sqrt(mse) # or mse**(0.5)  \n",
        "r2 = metrics.r2_score(y_test,y_pred)\n",
        "\n",
        "print(\"Results of sklearn.metrics:\")\n",
        "print(\"MAE:\",mae)\n",
        "print(\"MSE:\", mse)\n",
        "print(\"RMSE:\", rmse)\n",
        "print(\"R-Squared:\", r2)"
      ],
      "metadata": {
        "colab": {
          "base_uri": "https://localhost:8080/"
        },
        "id": "-ObyPyWD_rar",
        "outputId": "7cb43ec6-b676-49e8-e0f5-2d57c530cf03"
      },
      "execution_count": 17,
      "outputs": [
        {
          "output_type": "stream",
          "name": "stdout",
          "text": [
            "Results of sklearn.metrics:\n",
            "MAE: 11.127945622926322\n",
            "MSE: 171.20899953013495\n",
            "RMSE: 13.08468568709753\n",
            "R-Squared: 0.9828830343840349\n"
          ]
        }
      ]
    },
    {
      "cell_type": "code",
      "source": [
        "plt.scatter(y_pred, y_test, color=\"black\")\n",
        "plt.plot(y_pred, y_pred, color=\"blue\", linewidth=3)"
      ],
      "metadata": {
        "colab": {
          "base_uri": "https://localhost:8080/",
          "height": 282
        },
        "id": "TgcKSN7-_vio",
        "outputId": "62a330a7-eeaf-41d8-f54d-d91dd42be54e"
      },
      "execution_count": 18,
      "outputs": [
        {
          "output_type": "execute_result",
          "data": {
            "text/plain": [
              "[<matplotlib.lines.Line2D at 0x7f4cc9f9bfd0>]"
            ]
          },
          "metadata": {},
          "execution_count": 18
        },
        {
          "output_type": "display_data",
          "data": {
            "text/plain": [
              "<Figure size 432x288 with 1 Axes>"
            ],
            "image/png": "[encoded data removed]"
          },
          "metadata": {
            "needs_background": "light"
          }
        }
      ]
    },
    {
      "cell_type": "markdown",
      "source": [
        "**Multivariate Regression**"
      ],
      "metadata": {
        "id": "igsGvFoM-6ls"
      }
    },
    {
      "cell_type": "code",
      "source": [
        "X, y = make_regression(n_features=12, n_targets=1, noise=47)"
      ],
      "metadata": {
        "id": "MYik3WN1_zQW"
      },
      "execution_count": 19,
      "outputs": []
    },
    {
      "cell_type": "code",
      "source": [
        "X_train, X_test, y_train, y_test = train_test_split(X, y, test_size=0.33, random_state=42)"
      ],
      "metadata": {
        "id": "akj42SBx-7wx"
      },
      "execution_count": 20,
      "outputs": []
    },
    {
      "cell_type": "code",
      "source": [
        "lr = LinearRegression()\n",
        "lr.fit(X_train, y_train)\n",
        "print(lr.score(X_test,y_test))"
      ],
      "metadata": {
        "colab": {
          "base_uri": "https://localhost:8080/"
        },
        "id": "whlrEuRXAP3h",
        "outputId": "ce46899e-d78d-464a-9d08-492e9a0d067b"
      },
      "execution_count": 21,
      "outputs": [
        {
          "output_type": "stream",
          "name": "stdout",
          "text": [
            "0.888066425971493\n"
          ]
        }
      ]
    },
    {
      "cell_type": "code",
      "source": [
        "y_pred = lr.predict(X_test)"
      ],
      "metadata": {
        "id": "rEj4l1xXATIi"
      },
      "execution_count": 22,
      "outputs": []
    },
    {
      "cell_type": "code",
      "source": [
        "coef = lr.coef_\n",
        "intercept = lr.intercept_\n",
        "print('coef= ', coef)\n",
        "print('intercept= ', intercept)"
      ],
      "metadata": {
        "colab": {
          "base_uri": "https://localhost:8080/"
        },
        "id": "vWF4QVnjAZTp",
        "outputId": "3e30eee0-4d35-42b4-e460-025790faec76"
      },
      "execution_count": 23,
      "outputs": [
        {
          "output_type": "stream",
          "name": "stdout",
          "text": [
            "coef=  [ 0.58153522 43.18011432 26.63147957 92.10213604 10.52004393 89.45825727\n",
            " -0.4155877   9.02608835 53.85831559 60.92192828 77.4285809   2.28338327]\n",
            "intercept=  4.3585044388054355\n"
          ]
        }
      ]
    },
    {
      "cell_type": "code",
      "source": [
        "mae = metrics.mean_absolute_error(y_test, y_pred)\n",
        "mse = metrics.mean_squared_error(y_test, y_pred)\n",
        "rmse = np.sqrt(mse) # or mse**(0.5)  \n",
        "r2 = metrics.r2_score(y_test,y_pred)\n",
        "\n",
        "print(\"MAE:\",mae)\n",
        "print(\"MSE:\", mse)\n",
        "print(\"RMSE:\", rmse)\n",
        "print(\"R-Squared:\", r2)"
      ],
      "metadata": {
        "colab": {
          "base_uri": "https://localhost:8080/"
        },
        "id": "AhBMv_KfAbqK",
        "outputId": "82f87d00-a5a7-4296-efc8-a9264bc1203d"
      },
      "execution_count": 24,
      "outputs": [
        {
          "output_type": "stream",
          "name": "stdout",
          "text": [
            "MAE: 48.82129518971249\n",
            "MSE: 3570.501477692722\n",
            "RMSE: 59.75367334057984\n",
            "R-Squared: 0.888066425971493\n"
          ]
        }
      ]
    },
    {
      "cell_type": "code",
      "source": [
        "y_pred"
      ],
      "metadata": {
        "colab": {
          "base_uri": "https://localhost:8080/"
        },
        "id": "Ulai4dMEAfxJ",
        "outputId": "b50922b5-e71c-4234-fd36-cd9fe1601c23"
      },
      "execution_count": 25,
      "outputs": [
        {
          "output_type": "execute_result",
          "data": {
            "text/plain": [
              "array([-179.96435174, -110.69684191,  240.8687827 ,  117.47771312,\n",
              "        -57.69471792,  122.08586835,   32.83044466,  275.46026339,\n",
              "       -251.54620933,  472.67555774,  -38.90026894, -190.75716677,\n",
              "        -65.01048778, -112.53419099, -325.22352451, -188.45852498,\n",
              "         -8.04786972,  -64.61506675,  166.08065999,  -12.33407296,\n",
              "         33.70181203,   46.79238729,  130.73329537,  305.66682377,\n",
              "         40.17038358,  -29.30048983,  118.65324282,  114.91581646,\n",
              "       -241.55954258,  133.69926827,  -87.35338617, -150.18926132,\n",
              "        128.16085469])"
            ]
          },
          "metadata": {},
          "execution_count": 25
        }
      ]
    },
    {
      "cell_type": "code",
      "source": [
        "plt.scatter(y_pred, y_test, color=\"black\")\n",
        "plt.plot(y_pred, y_pred, color=\"blue\", linewidth=3)"
      ],
      "metadata": {
        "colab": {
          "base_uri": "https://localhost:8080/",
          "height": 283
        },
        "id": "CL6KvmV2AkAs",
        "outputId": "1f39dc2d-79bf-4584-e197-c7bfba03146b"
      },
      "execution_count": 26,
      "outputs": [
        {
          "output_type": "execute_result",
          "data": {
            "text/plain": [
              "[<matplotlib.lines.Line2D at 0x7f4cc7aaf890>]"
            ]
          },
          "metadata": {},
          "execution_count": 26
        },
        {
          "output_type": "display_data",
          "data": {
            "text/plain": [
              "<Figure size 432x288 with 1 Axes>"
            ],
            "image/png": "[encoded data removed]"
          },
          "metadata": {
            "needs_background": "light"
          }
        }
      ]
    },
    {
      "cell_type": "markdown",
      "source": [
        "## Lasso Regression"
      ],
      "metadata": {
        "id": "c1N7XtgAArtY"
      }
    },
    {
      "cell_type": "code",
      "source": [
        "X, y = make_regression(n_features=12, n_targets=1, noise=47)"
      ],
      "metadata": {
        "id": "FofCf3VrAoDN"
      },
      "execution_count": 27,
      "outputs": []
    },
    {
      "cell_type": "code",
      "source": [
        "X_train, X_test, y_train, y_test = train_test_split(X, y, test_size=0.33, random_state=42)"
      ],
      "metadata": {
        "id": "SW-cHNNrAy4N"
      },
      "execution_count": 28,
      "outputs": []
    },
    {
      "cell_type": "code",
      "source": [
        "lr = Lasso()\n",
        "lr.fit(X_train, y_train)\n",
        "print(lr.score(X_test,y_test))"
      ],
      "metadata": {
        "colab": {
          "base_uri": "https://localhost:8080/"
        },
        "id": "sB9wVraYA275",
        "outputId": "13a53706-87b0-4794-f5ca-01b1ab04961b"
      },
      "execution_count": 29,
      "outputs": [
        {
          "output_type": "stream",
          "name": "stdout",
          "text": [
            "0.9404081970745959\n"
          ]
        }
      ]
    },
    {
      "cell_type": "code",
      "source": [
        "y_pred = lr.predict(X_test)"
      ],
      "metadata": {
        "id": "Y2yaowAHA6ad"
      },
      "execution_count": 30,
      "outputs": []
    },
    {
      "cell_type": "code",
      "source": [
        "coef = lr.coef_\n",
        "intercept = lr.intercept_\n",
        "print('coef= ', coef)\n",
        "print('intercept= ', intercept)"
      ],
      "metadata": {
        "colab": {
          "base_uri": "https://localhost:8080/"
        },
        "id": "jeJFW-j4A9gz",
        "outputId": "be80382f-2636-444a-b767-8dccd05fbb15"
      },
      "execution_count": 31,
      "outputs": [
        {
          "output_type": "stream",
          "name": "stdout",
          "text": [
            "coef=  [95.4855361  66.94504203 97.72984775 56.87808886  4.52370478 39.29366868\n",
            " 52.41766164 45.72307626 77.47944383  4.58804749 -7.58341786 76.7811167 ]\n",
            "intercept=  1.1373461110281937\n"
          ]
        }
      ]
    },
    {
      "cell_type": "code",
      "source": [
        "mae = metrics.mean_absolute_error(y_test, y_pred)\n",
        "mse = metrics.mean_squared_error(y_test, y_pred)\n",
        "rmse = np.sqrt(mse) # or mse**(0.5)  \n",
        "r2 = metrics.r2_score(y_test,y_pred)\n",
        "\n",
        "print(\"MAE:\",mae)\n",
        "print(\"MSE:\", mse)\n",
        "print(\"RMSE:\", rmse)\n",
        "print(\"R-Squared:\", r2)"
      ],
      "metadata": {
        "colab": {
          "base_uri": "https://localhost:8080/"
        },
        "id": "K9k1xe__BAkv",
        "outputId": "ee4ef62d-7636-4cc6-9230-78d2a53cebe6"
      },
      "execution_count": 32,
      "outputs": [
        {
          "output_type": "stream",
          "name": "stdout",
          "text": [
            "MAE: 49.14123290242785\n",
            "MSE: 3465.1884794834227\n",
            "RMSE: 58.86585155659793\n",
            "R-Squared: 0.9404081970745959\n"
          ]
        }
      ]
    },
    {
      "cell_type": "code",
      "source": [
        "y_pred"
      ],
      "metadata": {
        "colab": {
          "base_uri": "https://localhost:8080/"
        },
        "id": "bzV29kXWBEOW",
        "outputId": "0ef9b148-1950-4d57-fbe2-6f2f1c13632a"
      },
      "execution_count": 33,
      "outputs": [
        {
          "output_type": "execute_result",
          "data": {
            "text/plain": [
              "array([ -20.15678636,  -29.60035118,  156.19355804,  102.93626053,\n",
              "        -49.87880507,  258.78241422,  288.40915077,  -29.90751274,\n",
              "        184.87737078,   31.63447697,  -73.32321541, -235.45577231,\n",
              "       -144.56435248,  -38.42507754, -241.92160605, -111.42484811,\n",
              "       -509.60304034,   61.75662625, -337.23235713,  242.02412185,\n",
              "       -152.10110387,  154.58660166,  -45.83070748,  121.16206513,\n",
              "        236.11508744,   80.88825209, -186.5821089 ,  337.21456844,\n",
              "       -118.29615351,   33.33306385, -527.05869665, -381.67335121,\n",
              "       -458.72724104])"
            ]
          },
          "metadata": {},
          "execution_count": 33
        }
      ]
    },
    {
      "cell_type": "code",
      "source": [
        "plt.scatter(y_pred, y_test, color=\"black\")\n",
        "plt.plot(y_pred, y_pred, color=\"blue\", linewidth=3)"
      ],
      "metadata": {
        "colab": {
          "base_uri": "https://localhost:8080/",
          "height": 282
        },
        "id": "zK-TJpjEBJoi",
        "outputId": "3283c951-cce3-41cd-8d72-59a293ce72f7"
      },
      "execution_count": 34,
      "outputs": [
        {
          "output_type": "execute_result",
          "data": {
            "text/plain": [
              "[<matplotlib.lines.Line2D at 0x7f4cc7a37a10>]"
            ]
          },
          "metadata": {},
          "execution_count": 34
        },
        {
          "output_type": "display_data",
          "data": {
            "text/plain": [
              "<Figure size 432x288 with 1 Axes>"
            ],
            "image/png": "[encoded data removed]"
          },
          "metadata": {
            "needs_background": "light"
          }
        }
      ]
    },
    {
      "cell_type": "markdown",
      "source": [
        "## Ridge Regression"
      ],
      "metadata": {
        "id": "sfpfXoumBQ5h"
      }
    },
    {
      "cell_type": "code",
      "source": [
        "X, y = make_regression(n_features=12, n_targets=1, noise=47)"
      ],
      "metadata": {
        "id": "5fs5GzFdBOFi"
      },
      "execution_count": 35,
      "outputs": []
    },
    {
      "cell_type": "code",
      "source": [
        "X_train, X_test, y_train, y_test = train_test_split(X, y, test_size=0.33, random_state=42)"
      ],
      "metadata": {
        "id": "qvxmQjzABVlN"
      },
      "execution_count": 37,
      "outputs": []
    },
    {
      "cell_type": "code",
      "source": [
        "lr = Ridge()\n",
        "lr.fit(X_train, y_train)\n",
        "print(lr.score(X_test,y_test))"
      ],
      "metadata": {
        "colab": {
          "base_uri": "https://localhost:8080/"
        },
        "id": "6lPBBQSiBcye",
        "outputId": "27d4582c-70e6-441b-b6a1-32c1635f9dc5"
      },
      "execution_count": 38,
      "outputs": [
        {
          "output_type": "stream",
          "name": "stdout",
          "text": [
            "0.9616150488410914\n"
          ]
        }
      ]
    },
    {
      "cell_type": "code",
      "source": [
        "y_pred = lr.predict(X_test)"
      ],
      "metadata": {
        "id": "a-dUir5mBsh3"
      },
      "execution_count": 39,
      "outputs": []
    },
    {
      "cell_type": "code",
      "source": [
        "coef = lr.coef_\n",
        "intercept = lr.intercept_\n",
        "print('coef= ', coef)\n",
        "print('intercept= ', intercept)"
      ],
      "metadata": {
        "colab": {
          "base_uri": "https://localhost:8080/"
        },
        "id": "agPEtTm1BuSQ",
        "outputId": "c4f8b537-9145-49aa-ee4e-4f600462f70e"
      },
      "execution_count": 40,
      "outputs": [
        {
          "output_type": "stream",
          "name": "stdout",
          "text": [
            "coef=  [ 62.13818489  60.79859939   0.98700715  96.80009534  68.64131758\n",
            " -11.26968662  97.6328605   73.60520918  91.24850056  84.3956571\n",
            "   1.85378358 -14.02377654]\n",
            "intercept=  -16.36924390443496\n"
          ]
        }
      ]
    },
    {
      "cell_type": "code",
      "source": [
        "mae = metrics.mean_absolute_error(y_test, y_pred)\n",
        "mse = metrics.mean_squared_error(y_test, y_pred)\n",
        "rmse = np.sqrt(mse) # or mse**(0.5)  \n",
        "r2 = metrics.r2_score(y_test,y_pred)\n",
        "\n",
        "print(\"MAE:\",mae)\n",
        "print(\"MSE:\", mse)\n",
        "print(\"RMSE:\", rmse)\n",
        "print(\"R-Squared:\", r2)"
      ],
      "metadata": {
        "colab": {
          "base_uri": "https://localhost:8080/"
        },
        "id": "N_qObNsfB2Zn",
        "outputId": "ec314cd0-1c58-4177-c729-8a395f86f4d5"
      },
      "execution_count": 41,
      "outputs": [
        {
          "output_type": "stream",
          "name": "stdout",
          "text": [
            "MAE: 35.728694201716664\n",
            "MSE: 1980.5545118600035\n",
            "RMSE: 44.503421350049074\n",
            "R-Squared: 0.9616150488410914\n"
          ]
        }
      ]
    },
    {
      "cell_type": "code",
      "source": [
        "y_pred"
      ],
      "metadata": {
        "colab": {
          "base_uri": "https://localhost:8080/"
        },
        "id": "mAYS7WVKB7kd",
        "outputId": "f53c3b89-6a88-45bb-d38a-39410e8139ce"
      },
      "execution_count": 42,
      "outputs": [
        {
          "output_type": "execute_result",
          "data": {
            "text/plain": [
              "array([-448.38382055,  -83.53170048,  440.7645371 , -251.75596715,\n",
              "       -238.30329153,  397.25730291,  237.8495841 ,  -16.69020763,\n",
              "        282.24163863,  496.17685382,  324.94595598,  -76.75981981,\n",
              "        186.72820002, -167.24793155,   63.11123765,  172.31264031,\n",
              "        151.87129056, -308.23611631, -232.28217575, -113.44984256,\n",
              "         27.72922071, -137.23298894,  184.96489465,  -67.21308684,\n",
              "       -152.80417995, -265.34920046, -184.66559002,  -69.09007595,\n",
              "       -120.13151012, -112.7721128 ,  155.86283407,  219.11857448,\n",
              "        -70.55235121])"
            ]
          },
          "metadata": {},
          "execution_count": 42
        }
      ]
    },
    {
      "cell_type": "code",
      "source": [
        "plt.scatter(y_pred, y_test, color=\"black\")\n",
        "plt.plot(y_pred, y_pred, color=\"blue\", linewidth=3)"
      ],
      "metadata": {
        "colab": {
          "base_uri": "https://localhost:8080/",
          "height": 282
        },
        "id": "BTP-jV_7B_9p",
        "outputId": "7b45634e-3cc3-495f-ede0-99e5bb237b67"
      },
      "execution_count": 43,
      "outputs": [
        {
          "output_type": "execute_result",
          "data": {
            "text/plain": [
              "[<matplotlib.lines.Line2D at 0x7f4cc79dda50>]"
            ]
          },
          "metadata": {},
          "execution_count": 43
        },
        {
          "output_type": "display_data",
          "data": {
            "text/plain": [
              "<Figure size 432x288 with 1 Axes>"
            ],
            "image/png": "[encoded data removed]"
          },
          "metadata": {
            "needs_background": "light"
          }
        }
      ]
    }
  ]
}